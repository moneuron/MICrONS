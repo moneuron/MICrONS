{
 "cells": [
  {
   "cell_type": "code",
   "execution_count": 1,
   "metadata": {},
   "outputs": [],
   "source": [
    "from caveclient import CAVEclient\n",
    "import nglui\n",
    "import numpy as np\n",
    "import pandas as pd \n",
    "import matplotlib.pyplot as plt"
   ]
  },
  {
   "cell_type": "code",
   "execution_count": 2,
   "metadata": {},
   "outputs": [],
   "source": [
    "# this is the datastack name of the public release\n",
    "# passing it will auto-configure many of the services\n",
    "client = CAVEclient('minnie65_public_v117')"
   ]
  },
  {
   "cell_type": "code",
   "execution_count": 3,
   "metadata": {},
   "outputs": [
    {
     "data": {
      "text/plain": [
       "['nucleus_detection_v0',\n",
       " 'synapses_pni_2',\n",
       " 'nucleus_neuron_svm',\n",
       " 'proofreading_status_public_release',\n",
       " 'func_unit_em_match_release',\n",
       " 'allen_soma_ei_class_model_v1',\n",
       " 'allen_visp_column_soma_coarse_types_v1',\n",
       " 'allen_soma_coarse_cell_class_model_v1']"
      ]
     },
     "execution_count": 3,
     "metadata": {},
     "output_type": "execute_result"
    }
   ],
   "source": [
    "client.materialize.get_tables()"
   ]
  },
  {
   "cell_type": "code",
   "execution_count": 4,
   "metadata": {},
   "outputs": [
    {
     "data": {
      "text/plain": [
       "{'aligned_volume': {'id': 1,\n",
       "  'name': 'minnie65_phase3',\n",
       "  'display_name': 'Minnie65',\n",
       "  'description': \"This is the second alignment of the IARPA 'minnie65' dataset, completed in the spring of 2020 that used the seamless approach.\",\n",
       "  'image_source': 'precomputed://https://bossdb-open-data.s3.amazonaws.com/iarpa_microns/minnie/minnie65/em'},\n",
       " 'segmentation_source': 'graphene://https://minnie.microns-daf.com/segmentation/table/minnie65_public_v117',\n",
       " 'skeleton_source': None,\n",
       " 'analysis_database': None,\n",
       " 'viewer_site': 'https://neuromancer-seung-import.appspot.com/',\n",
       " 'synapse_table': 'synapses_pni_2',\n",
       " 'soma_table': 'nucleus_neuron_svm',\n",
       " 'local_server': 'https://minnie.microns-daf.com',\n",
       " 'description': 'The publicly available version of the minnie65 volume.',\n",
       " 'viewer_resolution_x': 4.0,\n",
       " 'viewer_resolution_y': 4.0,\n",
       " 'viewer_resolution_z': 40.0,\n",
       " 'proofreading_status_table': None,\n",
       " 'cell_identification_table': None,\n",
       " 'proofreading_review_table': None}"
      ]
     },
     "execution_count": 4,
     "metadata": {},
     "output_type": "execute_result"
    }
   ],
   "source": [
    "# this shows you the basic information about this datastack within CAVE\n",
    "client.info.get_datastack_info()"
   ]
  },
  {
   "cell_type": "code",
   "execution_count": 5,
   "metadata": {},
   "outputs": [],
   "source": [
    "# pick a segment you selected from neuroglancer to enter here\n",
    "seg_id = 864691135474648896"
   ]
  },
  {
   "cell_type": "code",
   "execution_count": 6,
   "metadata": {},
   "outputs": [],
   "source": [
    "# lets get the outputs of this cell\n",
    "output_df = client.materialize.synapse_query(pre_ids=seg_id)\n",
    "# and the inputs\n",
    "input_df = client.materialize.synapse_query(post_ids=seg_id)\n"
   ]
  },
  {
   "cell_type": "code",
   "execution_count": 7,
   "metadata": {},
   "outputs": [
    {
     "data": {
      "text/plain": [
       "(232, 1554)"
      ]
     },
     "execution_count": 7,
     "metadata": {},
     "output_type": "execute_result"
    }
   ],
   "source": [
    "# here are the number of output synapses and input synapses\n",
    "len(output_df), len(input_df)"
   ]
  },
  {
   "cell_type": "code",
   "execution_count": 8,
   "metadata": {},
   "outputs": [
    {
     "data": {
      "text/html": [
       "<div>\n",
       "<style scoped>\n",
       "    .dataframe tbody tr th:only-of-type {\n",
       "        vertical-align: middle;\n",
       "    }\n",
       "\n",
       "    .dataframe tbody tr th {\n",
       "        vertical-align: top;\n",
       "    }\n",
       "\n",
       "    .dataframe thead th {\n",
       "        text-align: right;\n",
       "    }\n",
       "</style>\n",
       "<table border=\"1\" class=\"dataframe\">\n",
       "  <thead>\n",
       "    <tr style=\"text-align: right;\">\n",
       "      <th></th>\n",
       "      <th>id</th>\n",
       "      <th>valid</th>\n",
       "      <th>pre_pt_supervoxel_id</th>\n",
       "      <th>pre_pt_root_id</th>\n",
       "      <th>post_pt_supervoxel_id</th>\n",
       "      <th>post_pt_root_id</th>\n",
       "      <th>size</th>\n",
       "      <th>pre_pt_position</th>\n",
       "      <th>post_pt_position</th>\n",
       "      <th>ctr_pt_position</th>\n",
       "    </tr>\n",
       "  </thead>\n",
       "  <tbody>\n",
       "    <tr>\n",
       "      <th>0</th>\n",
       "      <td>342361353</td>\n",
       "      <td>t</td>\n",
       "      <td>103680030495990215</td>\n",
       "      <td>864691135474648896</td>\n",
       "      <td>103680030496002328</td>\n",
       "      <td>864691134947465724</td>\n",
       "      <td>456</td>\n",
       "      <td>[282724, 261022, 22820]</td>\n",
       "      <td>[282732, 260974, 22834]</td>\n",
       "      <td>[282698, 261034, 22826]</td>\n",
       "    </tr>\n",
       "    <tr>\n",
       "      <th>1</th>\n",
       "      <td>346621273</td>\n",
       "      <td>t</td>\n",
       "      <td>104239887938858534</td>\n",
       "      <td>864691135474648896</td>\n",
       "      <td>104239887938855726</td>\n",
       "      <td>864691135952035875</td>\n",
       "      <td>360</td>\n",
       "      <td>[286810, 238068, 21802]</td>\n",
       "      <td>[286892, 237968, 21804]</td>\n",
       "      <td>[286862, 237990, 21798]</td>\n",
       "    </tr>\n",
       "    <tr>\n",
       "      <th>2</th>\n",
       "      <td>368367952</td>\n",
       "      <td>t</td>\n",
       "      <td>105788756761877367</td>\n",
       "      <td>864691135474648896</td>\n",
       "      <td>105788756761876187</td>\n",
       "      <td>864691135307118406</td>\n",
       "      <td>10624</td>\n",
       "      <td>[298378, 243810, 25925]</td>\n",
       "      <td>[298388, 243778, 25927]</td>\n",
       "      <td>[298372, 243784, 25924]</td>\n",
       "    </tr>\n",
       "    <tr>\n",
       "      <th>3</th>\n",
       "      <td>381765166</td>\n",
       "      <td>t</td>\n",
       "      <td>107337074419646813</td>\n",
       "      <td>864691135474648896</td>\n",
       "      <td>107337074419638329</td>\n",
       "      <td>864691136536564642</td>\n",
       "      <td>10504</td>\n",
       "      <td>[309408, 244972, 19151]</td>\n",
       "      <td>[309456, 245044, 19136]</td>\n",
       "      <td>[309474, 245061, 19140]</td>\n",
       "    </tr>\n",
       "    <tr>\n",
       "      <th>5</th>\n",
       "      <td>324562691</td>\n",
       "      <td>t</td>\n",
       "      <td>102693493620865226</td>\n",
       "      <td>864691135474648896</td>\n",
       "      <td>102693493620852318</td>\n",
       "      <td>864691136908297582</td>\n",
       "      <td>28416</td>\n",
       "      <td>[275832, 250790, 22228]</td>\n",
       "      <td>[275894, 250834, 22218]</td>\n",
       "      <td>[275864, 250820, 22226]</td>\n",
       "    </tr>\n",
       "  </tbody>\n",
       "</table>\n",
       "</div>"
      ],
      "text/plain": [
       "          id valid  pre_pt_supervoxel_id      pre_pt_root_id  \\\n",
       "0  342361353     t    103680030495990215  864691135474648896   \n",
       "1  346621273     t    104239887938858534  864691135474648896   \n",
       "2  368367952     t    105788756761877367  864691135474648896   \n",
       "3  381765166     t    107337074419646813  864691135474648896   \n",
       "5  324562691     t    102693493620865226  864691135474648896   \n",
       "\n",
       "   post_pt_supervoxel_id     post_pt_root_id   size          pre_pt_position  \\\n",
       "0     103680030496002328  864691134947465724    456  [282724, 261022, 22820]   \n",
       "1     104239887938855726  864691135952035875    360  [286810, 238068, 21802]   \n",
       "2     105788756761876187  864691135307118406  10624  [298378, 243810, 25925]   \n",
       "3     107337074419638329  864691136536564642  10504  [309408, 244972, 19151]   \n",
       "5     102693493620852318  864691136908297582  28416  [275832, 250790, 22228]   \n",
       "\n",
       "          post_pt_position          ctr_pt_position  \n",
       "0  [282732, 260974, 22834]  [282698, 261034, 22826]  \n",
       "1  [286892, 237968, 21804]  [286862, 237990, 21798]  \n",
       "2  [298388, 243778, 25927]  [298372, 243784, 25924]  \n",
       "3  [309456, 245044, 19136]  [309474, 245061, 19140]  \n",
       "5  [275894, 250834, 22218]  [275864, 250820, 22226]  "
      ]
     },
     "execution_count": 8,
     "metadata": {},
     "output_type": "execute_result"
    }
   ],
   "source": [
    "# take peak at the output synapse dataframe\n",
    "output_df.head()"
   ]
  },
  {
   "cell_type": "markdown",
   "metadata": {},
   "source": [
    "<h3> Synapse Table Descriptions</h3>\n",
    "Here's a breakdown of what each of those columns mean.\n",
    "</div>\n",
    "\n",
    "<table style={float:left}>\n",
    "    <tr>\n",
    "        <td><h4>column</h4></td>\n",
    "        <td><h4>description</h4></td>\n",
    "    </tr> \n",
    "    <tr>\n",
    "        <td>id</td>\n",
    "        <td>The ID that is specific to this synapse, it corresponds to the ID in the synapse cleft segmentation</td>\n",
    "    </tr>\n",
    "    <tr>\n",
    "        <td>pre_pt_position</td>\n",
    "        <td>a point that is in the pre-synaptic terminal of this synapse (in 4,4,40 voxels) </td>\n",
    "    </tr>\n",
    "    <tr>\n",
    "        <td>pre_pt_supervoxel_id</td>\n",
    "        <td>the ID in the watershed layer this pre-synaptic point lies in, a bookkeeping column for the presynaptic side </td>\n",
    "    </tr>\n",
    "    <tr>\n",
    "        <td>pre_pt_root_id</td>\n",
    "        <td>the ID of the segment on the presynaptic side</td>\n",
    "    </tr>\n",
    "     <tr>\n",
    "        <td>ctr_pt_position</td>\n",
    "        <td>a point that is on the center of the synapse (in voxels)</td>\n",
    "    </tr>\n",
    "    <tr>\n",
    "        <td>post_pt_position</td>\n",
    "        <td>Same as pre_pt but for the post synaptic side.</td>\n",
    "    </tr>\n",
    "    <tr>\n",
    "        <td>post_pt_supervoxel_id</td>\n",
    "        <td>Same bookkeeping column as pre_pt but for the post synaptic side.</td>\n",
    "    </tr>\n",
    "    <tr>\n",
    "        <td>post_pt_root_id</td>\n",
    "        <td>Same as pre_pt but for the post synaptic side</td>\n",
    "    </tr>\n",
    "    <tr>\n",
    "        <td>size</td>\n",
    "        <td>The volume of the segmented synaptic cleft in units of 4,4,40 voxels.</td>\n",
    "    </tr>\n",
    "</table>\n",
    "\n",
    "Each row in this table is a single synapse. You should see that the value in the pre_pt_root_id column is the same for all, and equals the id you selected above. \n",
    "<h5>Note again that position columns are in voxel coordinates, just like Neuroglancer displays in the upper left corner. The units of this resolution are stored in metadata for each table, but  the tables are generally stored at  4x4x40 nm resolution for this dataset.</h5>"
   ]
  },
  {
   "cell_type": "code",
   "execution_count": 9,
   "metadata": {},
   "outputs": [
    {
     "data": {
      "text/plain": [
       "['nucleus_detection_v0',\n",
       " 'synapses_pni_2',\n",
       " 'nucleus_neuron_svm',\n",
       " 'proofreading_status_public_release',\n",
       " 'func_unit_em_match_release',\n",
       " 'allen_soma_ei_class_model_v1',\n",
       " 'allen_visp_column_soma_coarse_types_v1',\n",
       " 'allen_soma_coarse_cell_class_model_v1']"
      ]
     },
     "execution_count": 9,
     "metadata": {},
     "output_type": "execute_result"
    }
   ],
   "source": [
    "# synapses however are just one example of annotation tables on the dataset\n",
    "# there are more tables available, you can list them using this method\n",
    "client.materialize.get_tables()"
   ]
  },
  {
   "cell_type": "code",
   "execution_count": 10,
   "metadata": {},
   "outputs": [
    {
     "data": {
      "text/plain": [
       "{'aligned_volume': 'minnie65_phase3',\n",
       " 'valid': True,\n",
       " 'created': '2020-11-04T06:48:36.953637',\n",
       " 'table_name': 'synapses_pni_2',\n",
       " 'schema': 'synapse',\n",
       " 'id': 973,\n",
       " 'schema_type': 'synapse',\n",
       " 'user_id': '304',\n",
       " 'description': 'Automated synapse detection performed by Nick Turner from the Seung Lab.  size represents the number of (4x4x40 nm) voxels painted by the automated cleft segmentation, and the IDs reference the IDs of the cleft segmentation.  Ctr_pt reflects the centroid of the cleft segmentation. The cleft segmentation volume is located in the flat_segmentation_source field. ',\n",
       " 'notice_text': None,\n",
       " 'reference_table': None,\n",
       " 'flat_segmentation_source': 'precomputed://s3://bossdb-open-data/iarpa_microns/minnie/minnie65/clefts-sharded/',\n",
       " 'write_permission': 'PRIVATE',\n",
       " 'read_permission': 'PUBLIC',\n",
       " 'last_modified': '2022-10-25T19:24:28.559914',\n",
       " 'segmentation_source': '',\n",
       " 'pcg_table_name': 'minnie3_v1',\n",
       " 'last_updated': '2024-09-14T10:10:01.195692',\n",
       " 'voxel_resolution': [4.0, 4.0, 40.0]}"
      ]
     },
     "execution_count": 10,
     "metadata": {},
     "output_type": "execute_result"
    }
   ],
   "source": [
    "# synapses_pni_2 is the synapse table (see the info metadata above)\n",
    "# you can access the metadata of the synapse table here\n",
    "client.materialize.get_table_metadata('synapses_pni_2')"
   ]
  },
  {
   "cell_type": "code",
   "execution_count": 11,
   "metadata": {},
   "outputs": [
    {
     "data": {
      "text/plain": [
       "{'id': 974,\n",
       " 'valid': True,\n",
       " 'schema': 'cell_type_local',\n",
       " 'aligned_volume': 'minnie65_phase3',\n",
       " 'table_name': 'nucleus_neuron_svm',\n",
       " 'created': '2020-11-13T18:35:29.959876',\n",
       " 'schema_type': 'cell_type_local',\n",
       " 'user_id': '121',\n",
       " 'description': 'This table contains a prediction about what nucleus detections are neurons and which are likely not neurons.  This is based upon a model trained by Leila Elabbady (Allen Institute) on nucleus segmentations in Basil, processed for features such as volume, foldedness, location in cortex, etc, and applied to Minnie65.  In Basil the model had a cross validated f1 score of .97 and a recall of .97 for neurons.  Manual validation performed on a column of 1316 nuclei in Minnie65 measured a recall of .996 and a precision of .969. ',\n",
       " 'notice_text': 'Please cite https://doi.org/10.1101/2022.07.20.499976 when using this table.',\n",
       " 'reference_table': None,\n",
       " 'flat_segmentation_source': 'precomputed://https://bossdb-open-data.s3.amazonaws.com/iarpa_microns/minnie/minnie65/nuclei',\n",
       " 'write_permission': 'PRIVATE',\n",
       " 'read_permission': 'PUBLIC',\n",
       " 'last_modified': '2022-10-25T19:24:28.559914',\n",
       " 'segmentation_source': '',\n",
       " 'pcg_table_name': 'minnie3_v1',\n",
       " 'last_updated': '2024-09-14T10:10:01.195692',\n",
       " 'voxel_resolution': [4.0, 4.0, 40.0]}"
      ]
     },
     "execution_count": 11,
     "metadata": {},
     "output_type": "execute_result"
    }
   ],
   "source": [
    "# another useful table is the nucleus_neuron_svm table\n",
    "# that contains the list of all nucleus detections and those that were classified as neurons\n",
    "client.materialize.get_table_metadata('nucleus_neuron_svm')"
   ]
  },
  {
   "cell_type": "code",
   "execution_count": 12,
   "metadata": {},
   "outputs": [
    {
     "data": {
      "text/plain": [
       "171815"
      ]
     },
     "execution_count": 12,
     "metadata": {},
     "output_type": "execute_result"
    }
   ],
   "source": [
    "# here you can see how many entries are in a table\n",
    "client.materialize.get_annotation_count('nucleus_neuron_svm')"
   ]
  },
  {
   "cell_type": "code",
   "execution_count": 13,
   "metadata": {},
   "outputs": [
    {
     "name": "stderr",
     "output_type": "stream",
     "text": [
      "WARNING:caveclient.base:Table Owner Notice on nucleus_neuron_svm: Please cite https://doi.org/10.1101/2022.07.20.499976 when using this table.\n"
     ]
    },
    {
     "data": {
      "text/html": [
       "<div>\n",
       "<style scoped>\n",
       "    .dataframe tbody tr th:only-of-type {\n",
       "        vertical-align: middle;\n",
       "    }\n",
       "\n",
       "    .dataframe tbody tr th {\n",
       "        vertical-align: top;\n",
       "    }\n",
       "\n",
       "    .dataframe thead th {\n",
       "        text-align: right;\n",
       "    }\n",
       "</style>\n",
       "<table border=\"1\" class=\"dataframe\">\n",
       "  <thead>\n",
       "    <tr style=\"text-align: right;\">\n",
       "      <th></th>\n",
       "      <th>id</th>\n",
       "      <th>valid</th>\n",
       "      <th>classification_system</th>\n",
       "      <th>cell_type</th>\n",
       "      <th>pt_supervoxel_id</th>\n",
       "      <th>pt_root_id</th>\n",
       "      <th>pt_position</th>\n",
       "    </tr>\n",
       "  </thead>\n",
       "  <tbody>\n",
       "    <tr>\n",
       "      <th>0</th>\n",
       "      <td>348209</td>\n",
       "      <td>t</td>\n",
       "      <td>is_neuron</td>\n",
       "      <td>not-neuron</td>\n",
       "      <td>92423916840203243</td>\n",
       "      <td>864691134945836023</td>\n",
       "      <td>[200928, 282512, 16717]</td>\n",
       "    </tr>\n",
       "    <tr>\n",
       "      <th>1</th>\n",
       "      <td>640071</td>\n",
       "      <td>t</td>\n",
       "      <td>is_neuron</td>\n",
       "      <td>not-neuron</td>\n",
       "      <td>0</td>\n",
       "      <td>0</td>\n",
       "      <td>[371696, 98672, 19791]</td>\n",
       "    </tr>\n",
       "    <tr>\n",
       "      <th>2</th>\n",
       "      <td>462557</td>\n",
       "      <td>t</td>\n",
       "      <td>is_neuron</td>\n",
       "      <td>not-neuron</td>\n",
       "      <td>101417167182010351</td>\n",
       "      <td>864691135294515893</td>\n",
       "      <td>[266304, 178832, 25200]</td>\n",
       "    </tr>\n",
       "    <tr>\n",
       "      <th>3</th>\n",
       "      <td>266849</td>\n",
       "      <td>t</td>\n",
       "      <td>is_neuron</td>\n",
       "      <td>not-neuron</td>\n",
       "      <td>88330641678196634</td>\n",
       "      <td>864691135974582895</td>\n",
       "      <td>[171184, 194128, 20082]</td>\n",
       "    </tr>\n",
       "    <tr>\n",
       "      <th>4</th>\n",
       "      <td>219514</td>\n",
       "      <td>t</td>\n",
       "      <td>is_neuron</td>\n",
       "      <td>not-neuron</td>\n",
       "      <td>85994867133853165</td>\n",
       "      <td>864691135644554735</td>\n",
       "      <td>[154480, 92528, 23737]</td>\n",
       "    </tr>\n",
       "  </tbody>\n",
       "</table>\n",
       "</div>"
      ],
      "text/plain": [
       "       id valid classification_system   cell_type    pt_supervoxel_id  \\\n",
       "0  348209     t             is_neuron  not-neuron   92423916840203243   \n",
       "1  640071     t             is_neuron  not-neuron                   0   \n",
       "2  462557     t             is_neuron  not-neuron  101417167182010351   \n",
       "3  266849     t             is_neuron  not-neuron   88330641678196634   \n",
       "4  219514     t             is_neuron  not-neuron   85994867133853165   \n",
       "\n",
       "           pt_root_id              pt_position  \n",
       "0  864691134945836023  [200928, 282512, 16717]  \n",
       "1                   0   [371696, 98672, 19791]  \n",
       "2  864691135294515893  [266304, 178832, 25200]  \n",
       "3  864691135974582895  [171184, 194128, 20082]  \n",
       "4  864691135644554735   [154480, 92528, 23737]  "
      ]
     },
     "execution_count": 13,
     "metadata": {},
     "output_type": "execute_result"
    }
   ],
   "source": [
    "# this is small enough that simply downloading the entire thing\n",
    "# is reasonable\n",
    "nuc_df = client.materialize.query_table('nucleus_neuron_svm')\n",
    "nuc_df.head()"
   ]
  },
  {
   "cell_type": "markdown",
   "metadata": {},
   "source": [
    "<h2>Column descriptions</h2>\n",
    "<table style={float:left} width=\"75%\">\n",
    "    <tr><td><h4>column</h4></td>\n",
    "        <td><h4>description</h4></td>\n",
    "    </tr>\n",
    "       <tr><td>id</td>\n",
    "           <td>corresponds to the ID from the nucleus detection and segmentation</td>\n",
    "    </tr>\n",
    "           <tr><td>valid</td>\n",
    "           <td>internal check, uniformly ‘t’</td>\n",
    "    </tr>\n",
    "               <tr><td>classification_system</td>\n",
    "           <td>uniformly “is_neuron” for all entries.</td>\n",
    "    </tr>\n",
    "                  <tr><td>cell_type</td>\n",
    "           <td>‘neuron’ if the classifier called this a neuron,‘not-neuron’ if it was not classified as a neuron  this contains both non-neuronal cells as well as false positive detections.</td>\n",
    "    </tr>\n",
    "                  <tr><td>pt_supervoxel_id</td>\n",
    "           <td>the ID of the supervoxel from the watershed segmentation that is under the pt_position</td>\n",
    "    </tr>\n",
    "                  <tr><td>pt_root_id</td>\n",
    "           <td>the ID of the segment/root_id under the pt_position from the Proofread Segmentation (v117).</td>\n",
    "    </tr>\n",
    "                  <tr><td>pt_position</td>\n",
    "           <td>the location in 4,4,40 nm voxels of the nucleus location</td>\n",
    "    </tr>\n",
    "</table>\n"
   ]
  },
  {
   "cell_type": "code",
   "execution_count": 15,
   "metadata": {},
   "outputs": [
    {
     "data": {
      "text/plain": [
       "<bound method MaterializationClientV2.query_table of <caveclient.materializationengine.MaterializationClientV3 object at 0x103f45850>>"
      ]
     },
     "execution_count": 15,
     "metadata": {},
     "output_type": "execute_result"
    }
   ],
   "source": [
    "# you might notice that the 1st row had \n",
    "# an entry for pt_root_id = 0, which means that this nucleus was outside the segmented volume\n",
    "# we can filter out those detections in the query_table\n",
    "# using the filter options in query table\n",
    "client.materialize.query_table"
   ]
  },
  {
   "cell_type": "code",
   "execution_count": 16,
   "metadata": {},
   "outputs": [
    {
     "name": "stderr",
     "output_type": "stream",
     "text": [
      "WARNING:caveclient.base:Table Owner Notice on nucleus_neuron_svm: Please cite https://doi.org/10.1101/2022.07.20.499976 when using this table.\n"
     ]
    },
    {
     "data": {
      "text/html": [
       "<div>\n",
       "<style scoped>\n",
       "    .dataframe tbody tr th:only-of-type {\n",
       "        vertical-align: middle;\n",
       "    }\n",
       "\n",
       "    .dataframe tbody tr th {\n",
       "        vertical-align: top;\n",
       "    }\n",
       "\n",
       "    .dataframe thead th {\n",
       "        text-align: right;\n",
       "    }\n",
       "</style>\n",
       "<table border=\"1\" class=\"dataframe\">\n",
       "  <thead>\n",
       "    <tr style=\"text-align: right;\">\n",
       "      <th></th>\n",
       "      <th>id</th>\n",
       "      <th>valid</th>\n",
       "      <th>classification_system</th>\n",
       "      <th>cell_type</th>\n",
       "      <th>pt_supervoxel_id</th>\n",
       "      <th>pt_root_id</th>\n",
       "      <th>pt_position</th>\n",
       "    </tr>\n",
       "  </thead>\n",
       "  <tbody>\n",
       "    <tr>\n",
       "      <th>0</th>\n",
       "      <td>485509</td>\n",
       "      <td>t</td>\n",
       "      <td>is_neuron</td>\n",
       "      <td>neuron</td>\n",
       "      <td>103588564537113366</td>\n",
       "      <td>864691136740606812</td>\n",
       "      <td>[282608, 103808, 20318]</td>\n",
       "    </tr>\n",
       "    <tr>\n",
       "      <th>1</th>\n",
       "      <td>113721</td>\n",
       "      <td>t</td>\n",
       "      <td>is_neuron</td>\n",
       "      <td>neuron</td>\n",
       "      <td>79951332685465031</td>\n",
       "      <td>864691135366988025</td>\n",
       "      <td>[110208, 153664, 23546]</td>\n",
       "    </tr>\n",
       "    <tr>\n",
       "      <th>2</th>\n",
       "      <td>263203</td>\n",
       "      <td>t</td>\n",
       "      <td>is_neuron</td>\n",
       "      <td>neuron</td>\n",
       "      <td>87694643458256575</td>\n",
       "      <td>864691135181741826</td>\n",
       "      <td>[166512, 174176, 24523]</td>\n",
       "    </tr>\n",
       "    <tr>\n",
       "      <th>3</th>\n",
       "      <td>456177</td>\n",
       "      <td>t</td>\n",
       "      <td>is_neuron</td>\n",
       "      <td>neuron</td>\n",
       "      <td>102677963354799688</td>\n",
       "      <td>864691135337690598</td>\n",
       "      <td>[275616, 135120, 24873]</td>\n",
       "    </tr>\n",
       "    <tr>\n",
       "      <th>4</th>\n",
       "      <td>364447</td>\n",
       "      <td>t</td>\n",
       "      <td>is_neuron</td>\n",
       "      <td>neuron</td>\n",
       "      <td>94449079618306553</td>\n",
       "      <td>864691136883828334</td>\n",
       "      <td>[216064, 166800, 15025]</td>\n",
       "    </tr>\n",
       "  </tbody>\n",
       "</table>\n",
       "</div>"
      ],
      "text/plain": [
       "       id valid classification_system cell_type    pt_supervoxel_id  \\\n",
       "0  485509     t             is_neuron    neuron  103588564537113366   \n",
       "1  113721     t             is_neuron    neuron   79951332685465031   \n",
       "2  263203     t             is_neuron    neuron   87694643458256575   \n",
       "3  456177     t             is_neuron    neuron  102677963354799688   \n",
       "4  364447     t             is_neuron    neuron   94449079618306553   \n",
       "\n",
       "           pt_root_id              pt_position  \n",
       "0  864691136740606812  [282608, 103808, 20318]  \n",
       "1  864691135366988025  [110208, 153664, 23546]  \n",
       "2  864691135181741826  [166512, 174176, 24523]  \n",
       "3  864691135337690598  [275616, 135120, 24873]  \n",
       "4  864691136883828334  [216064, 166800, 15025]  "
      ]
     },
     "execution_count": 16,
     "metadata": {},
     "output_type": "execute_result"
    }
   ],
   "source": [
    "# let's filter out ID=0\n",
    "# and filter in only neurons\n",
    "nuc_df = client.materialize.query_table('nucleus_neuron_svm',\n",
    "                                        filter_equal_dict={'cell_type':'neuron'},\n",
    "                                        filter_out_dict={'pt_root_id':[0]})\n",
    "nuc_df.head()"
   ]
  },
  {
   "cell_type": "code",
   "execution_count": 17,
   "metadata": {},
   "outputs": [
    {
     "data": {
      "text/plain": [
       "(89062, 7)"
      ]
     },
     "execution_count": 17,
     "metadata": {},
     "output_type": "execute_result"
    }
   ],
   "source": [
    "# how many do we have?\n",
    "nuc_df.shape"
   ]
  },
  {
   "cell_type": "code",
   "execution_count": 18,
   "metadata": {},
   "outputs": [
    {
     "data": {
      "text/plain": [
       "{'valid': True,\n",
       " 'id': 995,\n",
       " 'aligned_volume': 'minnie65_phase3',\n",
       " 'schema': 'compartment_proofread_status',\n",
       " 'created': '2021-06-28T23:51:29.394068',\n",
       " 'table_name': 'proofreading_status_public_release',\n",
       " 'schema_type': 'compartment_proofread_status',\n",
       " 'user_id': '121',\n",
       " 'description': \"The proofreading status of neurons that have been comprehensively proofread within this version. Axon and dendrite compartment status are marked separately under 'axon_status' and 'dendrite_status', as proofreading effort was applied differently to the different compartments in some cells. There are three possible status values for each compartment: 'non' indicates no comprehensive proofreading. 'clean' indicates that all false merges have been removed, but all tips have not necessarily been followed. 'extended' indicates that the cell is both clean and all tips have been followed as far as a proofreader was able to. The 'pt_position' is at a cell body or similar core position for the cell. The column 'valid_id' provides the root id when the proofreading was last checked. If the current root id in 'pt_root_id' is not the same as 'valid_id', there is no guarantee that the proofreading status is correct. Very small false axon merges (axon fragments approximately 5 microns or less in length) were considered acceptable for clean neurites. Note that this table does not list all edited cells, but only those with comprehensive effort toward the status mentioned here. Table compiled by Sven Dorkenwald and Casey Schneider-Mizell, including work by many proofreaders and data maintained by Stelios Papadopoulos.\",\n",
       " 'notice_text': \"NOTE: this table is deprecated and no longer receiving updates; please use 'proofreading_status_and_strategy' which is available in datastack version >= 1078 (datastack = minnie65_public or minnie65_phase3_v1). \",\n",
       " 'reference_table': None,\n",
       " 'flat_segmentation_source': None,\n",
       " 'write_permission': 'PUBLIC',\n",
       " 'read_permission': 'PUBLIC',\n",
       " 'last_modified': '2024-05-21T01:59:45.829703',\n",
       " 'segmentation_source': None,\n",
       " 'pcg_table_name': 'minnie3_v1',\n",
       " 'last_updated': '2024-09-14T10:10:01.195692',\n",
       " 'voxel_resolution': [4.0, 4.0, 40.0]}"
      ]
     },
     "execution_count": 18,
     "metadata": {},
     "output_type": "execute_result"
    }
   ],
   "source": [
    "# but maybe we are interested in neurons which have been proofread and have lots\n",
    "# of outputs... we can get that information from this table\n",
    "client.materialize.get_table_metadata('proofreading_status_public_release')"
   ]
  },
  {
   "cell_type": "code",
   "execution_count": 19,
   "metadata": {},
   "outputs": [
    {
     "data": {
      "text/plain": [
       "601"
      ]
     },
     "execution_count": 19,
     "metadata": {},
     "output_type": "execute_result"
    }
   ],
   "source": [
    "# how many proofread neurons are there?\n",
    "client.materialize.get_annotation_count('proofreading_status_public_release')"
   ]
  },
  {
   "cell_type": "code",
   "execution_count": 20,
   "metadata": {},
   "outputs": [
    {
     "name": "stderr",
     "output_type": "stream",
     "text": [
      "WARNING:caveclient.base:Table Owner Notice on proofreading_status_public_release: NOTE: this table is deprecated and no longer receiving updates; please use 'proofreading_status_and_strategy' which is available in datastack version >= 1078 (datastack = minnie65_public or minnie65_phase3_v1).\n"
     ]
    }
   ],
   "source": [
    "# so lets pick out the ones with extended axons\n",
    "prf_df=client.materialize.query_table('proofreading_status_public_release', \n",
    "                                      filter_equal_dict={'status_axon':'extended'})\n"
   ]
  },
  {
   "cell_type": "code",
   "execution_count": 21,
   "metadata": {},
   "outputs": [
    {
     "data": {
      "text/html": [
       "<div>\n",
       "<style scoped>\n",
       "    .dataframe tbody tr th:only-of-type {\n",
       "        vertical-align: middle;\n",
       "    }\n",
       "\n",
       "    .dataframe tbody tr th {\n",
       "        vertical-align: top;\n",
       "    }\n",
       "\n",
       "    .dataframe thead th {\n",
       "        text-align: right;\n",
       "    }\n",
       "</style>\n",
       "<table border=\"1\" class=\"dataframe\">\n",
       "  <thead>\n",
       "    <tr style=\"text-align: right;\">\n",
       "      <th></th>\n",
       "      <th>id</th>\n",
       "      <th>valid</th>\n",
       "      <th>pt_supervoxel_id</th>\n",
       "      <th>pt_root_id</th>\n",
       "      <th>valid_id</th>\n",
       "      <th>status_dendrite</th>\n",
       "      <th>status_axon</th>\n",
       "      <th>pt_position</th>\n",
       "    </tr>\n",
       "  </thead>\n",
       "  <tbody>\n",
       "    <tr>\n",
       "      <th>0</th>\n",
       "      <td>346</td>\n",
       "      <td>t</td>\n",
       "      <td>89660913577302088</td>\n",
       "      <td>864691136194248918</td>\n",
       "      <td>864691136194248918</td>\n",
       "      <td>extended</td>\n",
       "      <td>extended</td>\n",
       "      <td>[181147, 143788, 22167]</td>\n",
       "    </tr>\n",
       "    <tr>\n",
       "      <th>1</th>\n",
       "      <td>347</td>\n",
       "      <td>t</td>\n",
       "      <td>89941288908184714</td>\n",
       "      <td>864691135517422218</td>\n",
       "      <td>864691135517422218</td>\n",
       "      <td>extended</td>\n",
       "      <td>extended</td>\n",
       "      <td>[182993, 135610, 21130]</td>\n",
       "    </tr>\n",
       "    <tr>\n",
       "      <th>2</th>\n",
       "      <td>348</td>\n",
       "      <td>t</td>\n",
       "      <td>85369450370657325</td>\n",
       "      <td>864691135753932237</td>\n",
       "      <td>864691135753932237</td>\n",
       "      <td>extended</td>\n",
       "      <td>extended</td>\n",
       "      <td>[149711, 151738, 17565]</td>\n",
       "    </tr>\n",
       "    <tr>\n",
       "      <th>3</th>\n",
       "      <td>349</td>\n",
       "      <td>t</td>\n",
       "      <td>92129866602123648</td>\n",
       "      <td>864691135367058169</td>\n",
       "      <td>864691135367058169</td>\n",
       "      <td>extended</td>\n",
       "      <td>extended</td>\n",
       "      <td>[198949, 188854, 19772]</td>\n",
       "    </tr>\n",
       "    <tr>\n",
       "      <th>4</th>\n",
       "      <td>350</td>\n",
       "      <td>t</td>\n",
       "      <td>88815663879226337</td>\n",
       "      <td>864691135293126156</td>\n",
       "      <td>864691135293126156</td>\n",
       "      <td>extended</td>\n",
       "      <td>extended</td>\n",
       "      <td>[174921, 137614, 21123]</td>\n",
       "    </tr>\n",
       "  </tbody>\n",
       "</table>\n",
       "</div>"
      ],
      "text/plain": [
       "    id valid   pt_supervoxel_id          pt_root_id            valid_id  \\\n",
       "0  346     t  89660913577302088  864691136194248918  864691136194248918   \n",
       "1  347     t  89941288908184714  864691135517422218  864691135517422218   \n",
       "2  348     t  85369450370657325  864691135753932237  864691135753932237   \n",
       "3  349     t  92129866602123648  864691135367058169  864691135367058169   \n",
       "4  350     t  88815663879226337  864691135293126156  864691135293126156   \n",
       "\n",
       "  status_dendrite status_axon              pt_position  \n",
       "0        extended    extended  [181147, 143788, 22167]  \n",
       "1        extended    extended  [182993, 135610, 21130]  \n",
       "2        extended    extended  [149711, 151738, 17565]  \n",
       "3        extended    extended  [198949, 188854, 19772]  \n",
       "4        extended    extended  [174921, 137614, 21123]  "
      ]
     },
     "execution_count": 21,
     "metadata": {},
     "output_type": "execute_result"
    }
   ],
   "source": [
    "prf_df.head()"
   ]
  },
  {
   "cell_type": "code",
   "execution_count": 22,
   "metadata": {},
   "outputs": [
    {
     "data": {
      "text/plain": [
       "(78, 8)"
      ]
     },
     "execution_count": 22,
     "metadata": {},
     "output_type": "execute_result"
    }
   ],
   "source": [
    "# how many of these\n",
    "prf_df.shape"
   ]
  },
  {
   "cell_type": "code",
   "execution_count": 23,
   "metadata": {},
   "outputs": [],
   "source": [
    "# lets pull all the synapses from these.\n",
    "# There is a practical upper bound of 200K synapses that can be queried in one go\n",
    "# and it can be faster to execute many smaller queries in parallel\n",
    "# but for code simplicity and to demonstrate filtering, lets do it in one query here.\n",
    "syn_df = client.materialize.query_table('synapses_pni_2',\n",
    "                                        filter_in_dict={'pre_pt_root_id': prf_df.pt_root_id.values})"
   ]
  },
  {
   "cell_type": "code",
   "execution_count": 24,
   "metadata": {},
   "outputs": [
    {
     "data": {
      "text/plain": [
       "(56905, 10)"
      ]
     },
     "execution_count": 24,
     "metadata": {},
     "output_type": "execute_result"
    }
   ],
   "source": [
    "# how many did we find?\n",
    "syn_df.shape"
   ]
  },
  {
   "cell_type": "code",
   "execution_count": 25,
   "metadata": {},
   "outputs": [
    {
     "data": {
      "text/plain": [
       "Text(0, 0.5, 'number of cells')"
      ]
     },
     "execution_count": 25,
     "metadata": {},
     "output_type": "execute_result"
    },
    {
     "data": {
      "image/png": "[encoded data removed]",
      "text/plain": [
       "<Figure size 640x480 with 1 Axes>"
      ]
     },
     "metadata": {},
     "output_type": "display_data"
    }
   ],
   "source": [
    "# lets group them by pre_id to get a histogram of synapses out\n",
    "syn_df.groupby('pre_pt_root_id').valid.count().hist(bins=50)\n",
    "plt.xlabel('number of output synapes')\n",
    "plt.ylabel('number of cells')"
   ]
  },
  {
   "cell_type": "code",
   "execution_count": 26,
   "metadata": {},
   "outputs": [
    {
     "data": {
      "text/plain": [
       "Text(0, 0.5, 'number of connections')"
      ]
     },
     "execution_count": 26,
     "metadata": {},
     "output_type": "execute_result"
    },
    {
     "data": {
      "image/png": "[encoded data removed]",
      "text/plain": [
       "<Figure size 640x480 with 1 Axes>"
      ]
     },
     "metadata": {},
     "output_type": "display_data"
    }
   ],
   "source": [
    "# now lets reduce it to connections by grouping by pre and post\n",
    "# and get a histogram of synapses per connection\n",
    "syn_df.groupby(['pre_pt_root_id', 'post_pt_root_id']).valid.count().hist(bins=np.arange(0,10))\n",
    "plt.xlabel('number of synpases in mapped connection')\n",
    "plt.ylabel('number of connections')"
   ]
  },
  {
   "cell_type": "markdown",
   "metadata": {},
   "source": [
    "many of these connections are not onto cells with cell bodies\n",
    "due to disconnected spine heads and orphan dendrites\n",
    "and some are onto cells with more than one soma that need to be split\n",
    "to sort those out, we need to figure out how many nuclei are\n",
    "in each cell, and then merge that information."
   ]
  },
  {
   "cell_type": "code",
   "execution_count": 27,
   "metadata": {},
   "outputs": [],
   "source": [
    "num_soma = nuc_df.groupby('pt_root_id').valid.count()\n",
    "num_soma.name = 'num_soma'"
   ]
  },
  {
   "cell_type": "code",
   "execution_count": 28,
   "metadata": {},
   "outputs": [
    {
     "data": {
      "text/plain": [
       "Text(0, 0.5, 'number of objects')"
      ]
     },
     "execution_count": 28,
     "metadata": {},
     "output_type": "execute_result"
    },
    {
     "data": {
      "image/png": "[encoded data removed]",
      "text/plain": [
       "<Figure size 640x480 with 1 Axes>"
      ]
     },
     "metadata": {},
     "output_type": "display_data"
    }
   ],
   "source": [
    "# now we can look at this distribution.. most neurons ~75% have only one neuronal nucleus in them\n",
    "num_soma.hist(bins=np.arange(1,10,1))\n",
    "plt.xlabel('number of neurons per object')\n",
    "plt.ylabel('number of objects')"
   ]
  },
  {
   "cell_type": "code",
   "execution_count": 29,
   "metadata": {},
   "outputs": [],
   "source": [
    "syn_m_df=pd.merge(syn_df, num_soma, left_on='post_pt_root_id', right_index=True, how='left')"
   ]
  },
  {
   "cell_type": "code",
   "execution_count": 30,
   "metadata": {},
   "outputs": [
    {
     "data": {
      "text/html": [
       "<div>\n",
       "<style scoped>\n",
       "    .dataframe tbody tr th:only-of-type {\n",
       "        vertical-align: middle;\n",
       "    }\n",
       "\n",
       "    .dataframe tbody tr th {\n",
       "        vertical-align: top;\n",
       "    }\n",
       "\n",
       "    .dataframe thead th {\n",
       "        text-align: right;\n",
       "    }\n",
       "</style>\n",
       "<table border=\"1\" class=\"dataframe\">\n",
       "  <thead>\n",
       "    <tr style=\"text-align: right;\">\n",
       "      <th></th>\n",
       "      <th>id</th>\n",
       "      <th>valid</th>\n",
       "      <th>pre_pt_supervoxel_id</th>\n",
       "      <th>pre_pt_root_id</th>\n",
       "      <th>post_pt_supervoxel_id</th>\n",
       "      <th>post_pt_root_id</th>\n",
       "      <th>size</th>\n",
       "      <th>pre_pt_position</th>\n",
       "      <th>post_pt_position</th>\n",
       "      <th>ctr_pt_position</th>\n",
       "      <th>num_soma</th>\n",
       "    </tr>\n",
       "  </thead>\n",
       "  <tbody>\n",
       "    <tr>\n",
       "      <th>0</th>\n",
       "      <td>392990786</td>\n",
       "      <td>t</td>\n",
       "      <td>108313646635037887</td>\n",
       "      <td>864691136903144370</td>\n",
       "      <td>108313646635031324</td>\n",
       "      <td>864691133490688863</td>\n",
       "      <td>2168</td>\n",
       "      <td>[316546, 181240, 16976]</td>\n",
       "      <td>[316496, 181222, 16976]</td>\n",
       "      <td>[316518, 181242, 16976]</td>\n",
       "      <td>NaN</td>\n",
       "    </tr>\n",
       "    <tr>\n",
       "      <th>1</th>\n",
       "      <td>367491011</td>\n",
       "      <td>t</td>\n",
       "      <td>105919942108940243</td>\n",
       "      <td>864691134884807418</td>\n",
       "      <td>105919942108953181</td>\n",
       "      <td>864691136902999474</td>\n",
       "      <td>204</td>\n",
       "      <td>[299484, 172656, 25069]</td>\n",
       "      <td>[299510, 172600, 25076]</td>\n",
       "      <td>[299538, 172674, 25072]</td>\n",
       "      <td>NaN</td>\n",
       "    </tr>\n",
       "    <tr>\n",
       "      <th>2</th>\n",
       "      <td>203270208</td>\n",
       "      <td>t</td>\n",
       "      <td>92409555207889486</td>\n",
       "      <td>864691136011067043</td>\n",
       "      <td>92409555207885060</td>\n",
       "      <td>864691135348496087</td>\n",
       "      <td>2756</td>\n",
       "      <td>[200798, 175720, 22249]</td>\n",
       "      <td>[200806, 175740, 22236]</td>\n",
       "      <td>[200775, 175755, 22246]</td>\n",
       "      <td>1.0</td>\n",
       "    </tr>\n",
       "    <tr>\n",
       "      <th>3</th>\n",
       "      <td>402091147</td>\n",
       "      <td>t</td>\n",
       "      <td>109018021808508698</td>\n",
       "      <td>864691136309871706</td>\n",
       "      <td>109018021808492130</td>\n",
       "      <td>864691136003665354</td>\n",
       "      <td>3540</td>\n",
       "      <td>[321836, 186342, 21141]</td>\n",
       "      <td>[321794, 186330, 21135]</td>\n",
       "      <td>[321778, 186336, 21135]</td>\n",
       "      <td>1.0</td>\n",
       "    </tr>\n",
       "    <tr>\n",
       "      <th>4</th>\n",
       "      <td>142870139</td>\n",
       "      <td>t</td>\n",
       "      <td>88039065475428861</td>\n",
       "      <td>864691136209328060</td>\n",
       "      <td>88039065475431637</td>\n",
       "      <td>864691135888567689</td>\n",
       "      <td>2452</td>\n",
       "      <td>[169414, 118904, 24336]</td>\n",
       "      <td>[169342, 118874, 24338]</td>\n",
       "      <td>[169380, 118910, 24338]</td>\n",
       "      <td>1.0</td>\n",
       "    </tr>\n",
       "  </tbody>\n",
       "</table>\n",
       "</div>"
      ],
      "text/plain": [
       "          id valid  pre_pt_supervoxel_id      pre_pt_root_id  \\\n",
       "0  392990786     t    108313646635037887  864691136903144370   \n",
       "1  367491011     t    105919942108940243  864691134884807418   \n",
       "2  203270208     t     92409555207889486  864691136011067043   \n",
       "3  402091147     t    109018021808508698  864691136309871706   \n",
       "4  142870139     t     88039065475428861  864691136209328060   \n",
       "\n",
       "   post_pt_supervoxel_id     post_pt_root_id  size          pre_pt_position  \\\n",
       "0     108313646635031324  864691133490688863  2168  [316546, 181240, 16976]   \n",
       "1     105919942108953181  864691136902999474   204  [299484, 172656, 25069]   \n",
       "2      92409555207885060  864691135348496087  2756  [200798, 175720, 22249]   \n",
       "3     109018021808492130  864691136003665354  3540  [321836, 186342, 21141]   \n",
       "4      88039065475431637  864691135888567689  2452  [169414, 118904, 24336]   \n",
       "\n",
       "          post_pt_position          ctr_pt_position  num_soma  \n",
       "0  [316496, 181222, 16976]  [316518, 181242, 16976]       NaN  \n",
       "1  [299510, 172600, 25076]  [299538, 172674, 25072]       NaN  \n",
       "2  [200806, 175740, 22236]  [200775, 175755, 22246]       1.0  \n",
       "3  [321794, 186330, 21135]  [321778, 186336, 21135]       1.0  \n",
       "4  [169342, 118874, 24338]  [169380, 118910, 24338]       1.0  "
      ]
     },
     "execution_count": 30,
     "metadata": {},
     "output_type": "execute_result"
    }
   ],
   "source": [
    "# now the num_soma column tells us how many soma are associated with each synapse\n",
    "# where NaN = 0 soma\n",
    "syn_m_df.head()"
   ]
  },
  {
   "cell_type": "code",
   "execution_count": 31,
   "metadata": {},
   "outputs": [
    {
     "name": "stderr",
     "output_type": "stream",
     "text": [
      "/var/folders/7m/9kbwk4911v71n2n88dmjq4cc0000gn/T/ipykernel_24271/1217603953.py:2: FutureWarning: A value is trying to be set on a copy of a DataFrame or Series through chained assignment using an inplace method.\n",
      "The behavior will change in pandas 3.0. This inplace method will never work because the intermediate object on which we are setting values always behaves as a copy.\n",
      "\n",
      "For example, when doing 'df[col].method(value, inplace=True)', try using 'df.method({col: value}, inplace=True)' or df[col] = df[col].method(value) instead, to perform the operation inplace on the original object.\n",
      "\n",
      "\n",
      "  syn_m_df.num_soma.fillna(0.0, inplace=True)\n"
     ]
    }
   ],
   "source": [
    "# lets fill those with 0s\n",
    "syn_m_df.num_soma.fillna(0.0, inplace=True)"
   ]
  },
  {
   "cell_type": "code",
   "execution_count": 32,
   "metadata": {},
   "outputs": [],
   "source": [
    "# now grouping across connections, how many zero, single, and more than 1 connection do we have"
   ]
  },
  {
   "cell_type": "code",
   "execution_count": 33,
   "metadata": {},
   "outputs": [
    {
     "data": {
      "text/plain": [
       "<Axes: >"
      ]
     },
     "execution_count": 33,
     "metadata": {},
     "output_type": "execute_result"
    },
    {
     "data": {
      "image/png": "[encoded data removed]",
      "text/plain": [
       "<Figure size 640x480 with 1 Axes>"
      ]
     },
     "metadata": {},
     "output_type": "display_data"
    }
   ],
   "source": [
    "# num soma is the same for each synapse in a connection, \n",
    "# so we just take the first synapse of each connection to get at this\n",
    "conn_df = syn_m_df.groupby(['pre_pt_root_id', 'post_pt_root_id']).num_soma.first()\n",
    "n_conn = len(conn_df)\n",
    "syn_m_df.groupby(['pre_pt_root_id', 'post_pt_root_id']).num_soma.first().hist(bins=np.arange(0,20))"
   ]
  },
  {
   "cell_type": "code",
   "execution_count": 34,
   "metadata": {},
   "outputs": [
    {
     "data": {
      "text/plain": [
       "0.5681071985553641"
      ]
     },
     "execution_count": 34,
     "metadata": {},
     "output_type": "execute_result"
    }
   ],
   "source": [
    "# lets see what fraction have 1 soma\n",
    "(conn_df.value_counts()/n_conn)[1.0]"
   ]
  },
  {
   "cell_type": "code",
   "execution_count": 35,
   "metadata": {},
   "outputs": [
    {
     "data": {
      "text/plain": [
       "0.3056923582040548"
      ]
     },
     "execution_count": 35,
     "metadata": {},
     "output_type": "execute_result"
    }
   ],
   "source": [
    "# lets see what fracton have 0 soma\n",
    "# disconnected spine heads and orphan dendrites\n",
    "(conn_df.value_counts()/n_conn)[0.0]"
   ]
  },
  {
   "cell_type": "code",
   "execution_count": 36,
   "metadata": {},
   "outputs": [
    {
     "data": {
      "text/plain": [
       "27685"
      ]
     },
     "execution_count": 36,
     "metadata": {},
     "output_type": "execute_result"
    }
   ],
   "source": [
    "# and so how many connections map to a single soma?\n",
    "conn_df.value_counts()[1.0]"
   ]
  },
  {
   "cell_type": "code",
   "execution_count": null,
   "metadata": {},
   "outputs": [],
   "source": []
  }
 ],
 "metadata": {
  "kernelspec": {
   "display_name": "micronsbinder",
   "language": "python",
   "name": "micronsbinder"
  },
  "language_info": {
   "codemirror_mode": {
    "name": "ipython",
    "version": 3
   },
   "file_extension": ".py",
   "mimetype": "text/x-python",
   "name": "python",
   "nbconvert_exporter": "python",
   "pygments_lexer": "ipython3",
   "version": "3.11.9"
  }
 },
 "nbformat": 4,
 "nbformat_minor": 4
}
