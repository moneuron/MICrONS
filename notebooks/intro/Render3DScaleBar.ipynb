{
 "cells": [
  {
   "cell_type": "markdown",
   "metadata": {},
   "source": [
    "# Render 3D Scale Bar\n",
    "This demonstrates two techinques to create 3D scale bars on 3D visualization plots.  \n",
    "<span style=\"background-color: #aaaaaa\">**NOTE:**</span> This example requires access to an X windows system to view the results."
   ]
  },
  {
   "cell_type": "code",
   "execution_count": 2,
   "metadata": {},
   "outputs": [],
   "source": [
    "# lets import some stuff..\n",
    "from meshparty import trimesh_io, trimesh_vtk\n",
    "import matplotlib.pyplot as plt\n",
    "import pandas as pd\n",
    "import numpy as np\n",
    "import vtk"
   ]
  },
  {
   "cell_type": "code",
   "execution_count": 4,
   "metadata": {},
   "outputs": [
    {
     "ename": "FileNotFoundError",
     "evalue": "[Errno 2] No such file or directory: 'data/soma_subgraph_synapses_spines_v185.csv'",
     "output_type": "error",
     "traceback": [
      "\u001b[0;31m---------------------------------------------------------------------------\u001b[0m",
      "\u001b[0;31mFileNotFoundError\u001b[0m                         Traceback (most recent call last)",
      "Cell \u001b[0;32mIn[4], line 8\u001b[0m\n\u001b[1;32m      3\u001b[0m seg_source \u001b[38;5;241m=\u001b[39m \u001b[38;5;124m\"\u001b[39m\u001b[38;5;124mprecomputed://https://storage.googleapis.com/microns_public_datasets/pinky100_v185/seg\u001b[39m\u001b[38;5;124m\"\u001b[39m\n\u001b[1;32m      4\u001b[0m mm \u001b[38;5;241m=\u001b[39m trimesh_io\u001b[38;5;241m.\u001b[39mMeshMeta(cv_path\u001b[38;5;241m=\u001b[39mseg_source,\n\u001b[1;32m      5\u001b[0m                          disk_cache_path\u001b[38;5;241m=\u001b[39mmesh_dir, \n\u001b[1;32m      6\u001b[0m                          cache_size\u001b[38;5;241m=\u001b[39m\u001b[38;5;241m20\u001b[39m)\n\u001b[0;32m----> 8\u001b[0m syn_df \u001b[38;5;241m=\u001b[39m pd\u001b[38;5;241m.\u001b[39mread_csv(\u001b[38;5;124m'\u001b[39m\u001b[38;5;124mdata/soma_subgraph_synapses_spines_v185.csv\u001b[39m\u001b[38;5;124m'\u001b[39m)\n",
      "File \u001b[0;32m~/anaconda3/envs/micronsbinder/lib/python3.11/site-packages/pandas/io/parsers/readers.py:1026\u001b[0m, in \u001b[0;36mread_csv\u001b[0;34m(filepath_or_buffer, sep, delimiter, header, names, index_col, usecols, dtype, engine, converters, true_values, false_values, skipinitialspace, skiprows, skipfooter, nrows, na_values, keep_default_na, na_filter, verbose, skip_blank_lines, parse_dates, infer_datetime_format, keep_date_col, date_parser, date_format, dayfirst, cache_dates, iterator, chunksize, compression, thousands, decimal, lineterminator, quotechar, quoting, doublequote, escapechar, comment, encoding, encoding_errors, dialect, on_bad_lines, delim_whitespace, low_memory, memory_map, float_precision, storage_options, dtype_backend)\u001b[0m\n\u001b[1;32m   1013\u001b[0m kwds_defaults \u001b[38;5;241m=\u001b[39m _refine_defaults_read(\n\u001b[1;32m   1014\u001b[0m     dialect,\n\u001b[1;32m   1015\u001b[0m     delimiter,\n\u001b[0;32m   (...)\u001b[0m\n\u001b[1;32m   1022\u001b[0m     dtype_backend\u001b[38;5;241m=\u001b[39mdtype_backend,\n\u001b[1;32m   1023\u001b[0m )\n\u001b[1;32m   1024\u001b[0m kwds\u001b[38;5;241m.\u001b[39mupdate(kwds_defaults)\n\u001b[0;32m-> 1026\u001b[0m \u001b[38;5;28;01mreturn\u001b[39;00m _read(filepath_or_buffer, kwds)\n",
      "File \u001b[0;32m~/anaconda3/envs/micronsbinder/lib/python3.11/site-packages/pandas/io/parsers/readers.py:620\u001b[0m, in \u001b[0;36m_read\u001b[0;34m(filepath_or_buffer, kwds)\u001b[0m\n\u001b[1;32m    617\u001b[0m _validate_names(kwds\u001b[38;5;241m.\u001b[39mget(\u001b[38;5;124m\"\u001b[39m\u001b[38;5;124mnames\u001b[39m\u001b[38;5;124m\"\u001b[39m, \u001b[38;5;28;01mNone\u001b[39;00m))\n\u001b[1;32m    619\u001b[0m \u001b[38;5;66;03m# Create the parser.\u001b[39;00m\n\u001b[0;32m--> 620\u001b[0m parser \u001b[38;5;241m=\u001b[39m TextFileReader(filepath_or_buffer, \u001b[38;5;241m*\u001b[39m\u001b[38;5;241m*\u001b[39mkwds)\n\u001b[1;32m    622\u001b[0m \u001b[38;5;28;01mif\u001b[39;00m chunksize \u001b[38;5;129;01mor\u001b[39;00m iterator:\n\u001b[1;32m    623\u001b[0m     \u001b[38;5;28;01mreturn\u001b[39;00m parser\n",
      "File \u001b[0;32m~/anaconda3/envs/micronsbinder/lib/python3.11/site-packages/pandas/io/parsers/readers.py:1620\u001b[0m, in \u001b[0;36mTextFileReader.__init__\u001b[0;34m(self, f, engine, **kwds)\u001b[0m\n\u001b[1;32m   1617\u001b[0m     \u001b[38;5;28mself\u001b[39m\u001b[38;5;241m.\u001b[39moptions[\u001b[38;5;124m\"\u001b[39m\u001b[38;5;124mhas_index_names\u001b[39m\u001b[38;5;124m\"\u001b[39m] \u001b[38;5;241m=\u001b[39m kwds[\u001b[38;5;124m\"\u001b[39m\u001b[38;5;124mhas_index_names\u001b[39m\u001b[38;5;124m\"\u001b[39m]\n\u001b[1;32m   1619\u001b[0m \u001b[38;5;28mself\u001b[39m\u001b[38;5;241m.\u001b[39mhandles: IOHandles \u001b[38;5;241m|\u001b[39m \u001b[38;5;28;01mNone\u001b[39;00m \u001b[38;5;241m=\u001b[39m \u001b[38;5;28;01mNone\u001b[39;00m\n\u001b[0;32m-> 1620\u001b[0m \u001b[38;5;28mself\u001b[39m\u001b[38;5;241m.\u001b[39m_engine \u001b[38;5;241m=\u001b[39m \u001b[38;5;28mself\u001b[39m\u001b[38;5;241m.\u001b[39m_make_engine(f, \u001b[38;5;28mself\u001b[39m\u001b[38;5;241m.\u001b[39mengine)\n",
      "File \u001b[0;32m~/anaconda3/envs/micronsbinder/lib/python3.11/site-packages/pandas/io/parsers/readers.py:1880\u001b[0m, in \u001b[0;36mTextFileReader._make_engine\u001b[0;34m(self, f, engine)\u001b[0m\n\u001b[1;32m   1878\u001b[0m     \u001b[38;5;28;01mif\u001b[39;00m \u001b[38;5;124m\"\u001b[39m\u001b[38;5;124mb\u001b[39m\u001b[38;5;124m\"\u001b[39m \u001b[38;5;129;01mnot\u001b[39;00m \u001b[38;5;129;01min\u001b[39;00m mode:\n\u001b[1;32m   1879\u001b[0m         mode \u001b[38;5;241m+\u001b[39m\u001b[38;5;241m=\u001b[39m \u001b[38;5;124m\"\u001b[39m\u001b[38;5;124mb\u001b[39m\u001b[38;5;124m\"\u001b[39m\n\u001b[0;32m-> 1880\u001b[0m \u001b[38;5;28mself\u001b[39m\u001b[38;5;241m.\u001b[39mhandles \u001b[38;5;241m=\u001b[39m get_handle(\n\u001b[1;32m   1881\u001b[0m     f,\n\u001b[1;32m   1882\u001b[0m     mode,\n\u001b[1;32m   1883\u001b[0m     encoding\u001b[38;5;241m=\u001b[39m\u001b[38;5;28mself\u001b[39m\u001b[38;5;241m.\u001b[39moptions\u001b[38;5;241m.\u001b[39mget(\u001b[38;5;124m\"\u001b[39m\u001b[38;5;124mencoding\u001b[39m\u001b[38;5;124m\"\u001b[39m, \u001b[38;5;28;01mNone\u001b[39;00m),\n\u001b[1;32m   1884\u001b[0m     compression\u001b[38;5;241m=\u001b[39m\u001b[38;5;28mself\u001b[39m\u001b[38;5;241m.\u001b[39moptions\u001b[38;5;241m.\u001b[39mget(\u001b[38;5;124m\"\u001b[39m\u001b[38;5;124mcompression\u001b[39m\u001b[38;5;124m\"\u001b[39m, \u001b[38;5;28;01mNone\u001b[39;00m),\n\u001b[1;32m   1885\u001b[0m     memory_map\u001b[38;5;241m=\u001b[39m\u001b[38;5;28mself\u001b[39m\u001b[38;5;241m.\u001b[39moptions\u001b[38;5;241m.\u001b[39mget(\u001b[38;5;124m\"\u001b[39m\u001b[38;5;124mmemory_map\u001b[39m\u001b[38;5;124m\"\u001b[39m, \u001b[38;5;28;01mFalse\u001b[39;00m),\n\u001b[1;32m   1886\u001b[0m     is_text\u001b[38;5;241m=\u001b[39mis_text,\n\u001b[1;32m   1887\u001b[0m     errors\u001b[38;5;241m=\u001b[39m\u001b[38;5;28mself\u001b[39m\u001b[38;5;241m.\u001b[39moptions\u001b[38;5;241m.\u001b[39mget(\u001b[38;5;124m\"\u001b[39m\u001b[38;5;124mencoding_errors\u001b[39m\u001b[38;5;124m\"\u001b[39m, \u001b[38;5;124m\"\u001b[39m\u001b[38;5;124mstrict\u001b[39m\u001b[38;5;124m\"\u001b[39m),\n\u001b[1;32m   1888\u001b[0m     storage_options\u001b[38;5;241m=\u001b[39m\u001b[38;5;28mself\u001b[39m\u001b[38;5;241m.\u001b[39moptions\u001b[38;5;241m.\u001b[39mget(\u001b[38;5;124m\"\u001b[39m\u001b[38;5;124mstorage_options\u001b[39m\u001b[38;5;124m\"\u001b[39m, \u001b[38;5;28;01mNone\u001b[39;00m),\n\u001b[1;32m   1889\u001b[0m )\n\u001b[1;32m   1890\u001b[0m \u001b[38;5;28;01massert\u001b[39;00m \u001b[38;5;28mself\u001b[39m\u001b[38;5;241m.\u001b[39mhandles \u001b[38;5;129;01mis\u001b[39;00m \u001b[38;5;129;01mnot\u001b[39;00m \u001b[38;5;28;01mNone\u001b[39;00m\n\u001b[1;32m   1891\u001b[0m f \u001b[38;5;241m=\u001b[39m \u001b[38;5;28mself\u001b[39m\u001b[38;5;241m.\u001b[39mhandles\u001b[38;5;241m.\u001b[39mhandle\n",
      "File \u001b[0;32m~/anaconda3/envs/micronsbinder/lib/python3.11/site-packages/pandas/io/common.py:873\u001b[0m, in \u001b[0;36mget_handle\u001b[0;34m(path_or_buf, mode, encoding, compression, memory_map, is_text, errors, storage_options)\u001b[0m\n\u001b[1;32m    868\u001b[0m \u001b[38;5;28;01melif\u001b[39;00m \u001b[38;5;28misinstance\u001b[39m(handle, \u001b[38;5;28mstr\u001b[39m):\n\u001b[1;32m    869\u001b[0m     \u001b[38;5;66;03m# Check whether the filename is to be opened in binary mode.\u001b[39;00m\n\u001b[1;32m    870\u001b[0m     \u001b[38;5;66;03m# Binary mode does not support 'encoding' and 'newline'.\u001b[39;00m\n\u001b[1;32m    871\u001b[0m     \u001b[38;5;28;01mif\u001b[39;00m ioargs\u001b[38;5;241m.\u001b[39mencoding \u001b[38;5;129;01mand\u001b[39;00m \u001b[38;5;124m\"\u001b[39m\u001b[38;5;124mb\u001b[39m\u001b[38;5;124m\"\u001b[39m \u001b[38;5;129;01mnot\u001b[39;00m \u001b[38;5;129;01min\u001b[39;00m ioargs\u001b[38;5;241m.\u001b[39mmode:\n\u001b[1;32m    872\u001b[0m         \u001b[38;5;66;03m# Encoding\u001b[39;00m\n\u001b[0;32m--> 873\u001b[0m         handle \u001b[38;5;241m=\u001b[39m \u001b[38;5;28mopen\u001b[39m(\n\u001b[1;32m    874\u001b[0m             handle,\n\u001b[1;32m    875\u001b[0m             ioargs\u001b[38;5;241m.\u001b[39mmode,\n\u001b[1;32m    876\u001b[0m             encoding\u001b[38;5;241m=\u001b[39mioargs\u001b[38;5;241m.\u001b[39mencoding,\n\u001b[1;32m    877\u001b[0m             errors\u001b[38;5;241m=\u001b[39merrors,\n\u001b[1;32m    878\u001b[0m             newline\u001b[38;5;241m=\u001b[39m\u001b[38;5;124m\"\u001b[39m\u001b[38;5;124m\"\u001b[39m,\n\u001b[1;32m    879\u001b[0m         )\n\u001b[1;32m    880\u001b[0m     \u001b[38;5;28;01melse\u001b[39;00m:\n\u001b[1;32m    881\u001b[0m         \u001b[38;5;66;03m# Binary mode\u001b[39;00m\n\u001b[1;32m    882\u001b[0m         handle \u001b[38;5;241m=\u001b[39m \u001b[38;5;28mopen\u001b[39m(handle, ioargs\u001b[38;5;241m.\u001b[39mmode)\n",
      "\u001b[0;31mFileNotFoundError\u001b[0m: [Errno 2] No such file or directory: 'data/soma_subgraph_synapses_spines_v185.csv'"
     ]
    }
   ],
   "source": [
    "# setup the mesh meta to handle downloads and caching\n",
    "mesh_dir = 'data/meshes'\n",
    "seg_source = \"precomputed://https://storage.googleapis.com/microns_public_datasets/pinky100_v185/seg\"\n",
    "mm = trimesh_io.MeshMeta(cv_path=seg_source,\n",
    "                         disk_cache_path=mesh_dir, \n",
    "                         cache_size=20)\n",
    "\n",
    "syn_df = pd.read_csv('data/soma_subgraph_synapses_spines_v185.csv')"
   ]
  },
  {
   "cell_type": "code",
   "execution_count": null,
   "metadata": {},
   "outputs": [
    {
     "data": {
      "text/html": [
       "<div>\n",
       "<style scoped>\n",
       "    .dataframe tbody tr th:only-of-type {\n",
       "        vertical-align: middle;\n",
       "    }\n",
       "\n",
       "    .dataframe tbody tr th {\n",
       "        vertical-align: top;\n",
       "    }\n",
       "\n",
       "    .dataframe thead th {\n",
       "        text-align: right;\n",
       "    }\n",
       "</style>\n",
       "<table border=\"1\" class=\"dataframe\">\n",
       "  <thead>\n",
       "    <tr style=\"text-align: right;\">\n",
       "      <th></th>\n",
       "      <th>id</th>\n",
       "      <th>pre_root_id</th>\n",
       "      <th>post_root_id</th>\n",
       "      <th>cleft_vx</th>\n",
       "      <th>spine_vol_um3</th>\n",
       "      <th>ctr_pt_x_nm</th>\n",
       "      <th>ctr_pt_y_nm</th>\n",
       "      <th>ctr_pt_z_nm</th>\n",
       "      <th>pre_pos_x_vx</th>\n",
       "      <th>pre_pos_y_vx</th>\n",
       "      <th>pre_pos_z_vx</th>\n",
       "      <th>ctr_pos_x_vx</th>\n",
       "      <th>ctr_pos_y_vx</th>\n",
       "      <th>ctr_pos_z_vx</th>\n",
       "      <th>post_pos_x_vx</th>\n",
       "      <th>post_pos_y_vx</th>\n",
       "      <th>post_pos_z_vx</th>\n",
       "    </tr>\n",
       "  </thead>\n",
       "  <tbody>\n",
       "    <tr>\n",
       "      <th>0</th>\n",
       "      <td>1484</td>\n",
       "      <td>648518346349539437</td>\n",
       "      <td>648518346349531254</td>\n",
       "      <td>798</td>\n",
       "      <td>0.133004</td>\n",
       "      <td>365476</td>\n",
       "      <td>231192</td>\n",
       "      <td>63280</td>\n",
       "      <td>91332</td>\n",
       "      <td>57836</td>\n",
       "      <td>1584</td>\n",
       "      <td>91369</td>\n",
       "      <td>57798</td>\n",
       "      <td>1582</td>\n",
       "      <td>91332</td>\n",
       "      <td>57748</td>\n",
       "      <td>1584</td>\n",
       "    </tr>\n",
       "    <tr>\n",
       "      <th>1</th>\n",
       "      <td>3056393</td>\n",
       "      <td>648518346349537978</td>\n",
       "      <td>648518346349531254</td>\n",
       "      <td>209</td>\n",
       "      <td>0.087794</td>\n",
       "      <td>312120</td>\n",
       "      <td>209816</td>\n",
       "      <td>9960</td>\n",
       "      <td>78050</td>\n",
       "      <td>52470</td>\n",
       "      <td>248</td>\n",
       "      <td>78030</td>\n",
       "      <td>52454</td>\n",
       "      <td>249</td>\n",
       "      <td>77980</td>\n",
       "      <td>52444</td>\n",
       "      <td>249</td>\n",
       "    </tr>\n",
       "    <tr>\n",
       "      <th>2</th>\n",
       "      <td>310116</td>\n",
       "      <td>648518346349538410</td>\n",
       "      <td>648518346349531254</td>\n",
       "      <td>869</td>\n",
       "      <td>0.234537</td>\n",
       "      <td>313596</td>\n",
       "      <td>185764</td>\n",
       "      <td>23920</td>\n",
       "      <td>78314</td>\n",
       "      <td>46428</td>\n",
       "      <td>598</td>\n",
       "      <td>78399</td>\n",
       "      <td>46441</td>\n",
       "      <td>598</td>\n",
       "      <td>78404</td>\n",
       "      <td>46410</td>\n",
       "      <td>598</td>\n",
       "    </tr>\n",
       "    <tr>\n",
       "      <th>3</th>\n",
       "      <td>1533059</td>\n",
       "      <td>648518346349538410</td>\n",
       "      <td>648518346349531254</td>\n",
       "      <td>231</td>\n",
       "      <td>0.081921</td>\n",
       "      <td>289560</td>\n",
       "      <td>174904</td>\n",
       "      <td>33920</td>\n",
       "      <td>72340</td>\n",
       "      <td>43756</td>\n",
       "      <td>849</td>\n",
       "      <td>72390</td>\n",
       "      <td>43726</td>\n",
       "      <td>848</td>\n",
       "      <td>72354</td>\n",
       "      <td>43704</td>\n",
       "      <td>849</td>\n",
       "    </tr>\n",
       "    <tr>\n",
       "      <th>4</th>\n",
       "      <td>2505779</td>\n",
       "      <td>648518346349538410</td>\n",
       "      <td>648518346349531254</td>\n",
       "      <td>669</td>\n",
       "      <td>0.105706</td>\n",
       "      <td>296056</td>\n",
       "      <td>162304</td>\n",
       "      <td>9520</td>\n",
       "      <td>73966</td>\n",
       "      <td>40608</td>\n",
       "      <td>231</td>\n",
       "      <td>74014</td>\n",
       "      <td>40576</td>\n",
       "      <td>238</td>\n",
       "      <td>73918</td>\n",
       "      <td>40562</td>\n",
       "      <td>232</td>\n",
       "    </tr>\n",
       "  </tbody>\n",
       "</table>\n",
       "</div>"
      ],
      "text/plain": [
       "        id         pre_root_id        post_root_id  cleft_vx  spine_vol_um3  \\\n",
       "0     1484  648518346349539437  648518346349531254       798       0.133004   \n",
       "1  3056393  648518346349537978  648518346349531254       209       0.087794   \n",
       "2   310116  648518346349538410  648518346349531254       869       0.234537   \n",
       "3  1533059  648518346349538410  648518346349531254       231       0.081921   \n",
       "4  2505779  648518346349538410  648518346349531254       669       0.105706   \n",
       "\n",
       "   ctr_pt_x_nm  ctr_pt_y_nm  ctr_pt_z_nm  pre_pos_x_vx  pre_pos_y_vx  \\\n",
       "0       365476       231192        63280         91332         57836   \n",
       "1       312120       209816         9960         78050         52470   \n",
       "2       313596       185764        23920         78314         46428   \n",
       "3       289560       174904        33920         72340         43756   \n",
       "4       296056       162304         9520         73966         40608   \n",
       "\n",
       "   pre_pos_z_vx  ctr_pos_x_vx  ctr_pos_y_vx  ctr_pos_z_vx  post_pos_x_vx  \\\n",
       "0          1584         91369         57798          1582          91332   \n",
       "1           248         78030         52454           249          77980   \n",
       "2           598         78399         46441           598          78404   \n",
       "3           849         72390         43726           848          72354   \n",
       "4           231         74014         40576           238          73918   \n",
       "\n",
       "   post_pos_y_vx  post_pos_z_vx  \n",
       "0          57748           1584  \n",
       "1          52444            249  \n",
       "2          46410            598  \n",
       "3          43704            849  \n",
       "4          40562            232  "
      ]
     },
     "execution_count": 3,
     "metadata": {},
     "output_type": "execute_result"
    }
   ],
   "source": [
    "syn_df.head()"
   ]
  },
  {
   "cell_type": "code",
   "execution_count": null,
   "metadata": {},
   "outputs": [
    {
     "name": "stderr",
     "output_type": "stream",
     "text": [
      "Existence Testing:   0%|          | 0/20 [00:00<?, ?it/s]\n",
      "Downloading: 1it [00:00,  6.26it/s]\n",
      "Downloading: 510it [00:05, 87.92it/s]                         \n",
      "Decoding Mesh Buffer: 100%|██████████| 256/256 [00:00<00:00, 3781.66it/s]\n"
     ]
    }
   ],
   "source": [
    "# download a cell mesh\n",
    "seg_id = 648518346349531254\n",
    "\n",
    "mesh = mm.mesh(seg_id=seg_id, remove_duplicate_vertices=True)"
   ]
  },
  {
   "cell_type": "code",
   "execution_count": null,
   "metadata": {},
   "outputs": [],
   "source": [
    "mm.mesh?"
   ]
  },
  {
   "cell_type": "code",
   "execution_count": null,
   "metadata": {},
   "outputs": [],
   "source": [
    "# make an actor\n",
    "mesh_actor = trimesh_vtk.mesh_actor(mesh)"
   ]
  },
  {
   "cell_type": "code",
   "execution_count": null,
   "metadata": {},
   "outputs": [
    {
     "data": {
      "text/plain": [
       "(vtkRenderingOpenGL2Python.vtkOpenGLRenderer)0x1a2ee36440"
      ]
     },
     "execution_count": 9,
     "metadata": {},
     "output_type": "execute_result"
    }
   ],
   "source": [
    "# lets say we want to aim a camera at a particular synapse on this cell\n",
    "syn_pos=syn_df.query(f'post_root_id=={seg_id}').iloc[0][['ctr_pt_x_nm', 'ctr_pt_y_nm', 'ctr_pt_z_nm']]\n",
    "camera = trimesh_vtk.oriented_camera(syn_pos, backoff=10)\n",
    "trimesh_vtk.render_actors([mesh_actor], camera=camera)\n",
    "\n",
    "# now note when i adjust the camera dynamically\n",
    "# my camera object is updated, so when i hit 'q'\n",
    "# or close window, the camera has new parameters"
   ]
  },
  {
   "cell_type": "code",
   "execution_count": null,
   "metadata": {},
   "outputs": [
    {
     "data": {
      "text/plain": [
       "(vtkRenderingOpenGL2Python.vtkOpenGLRenderer)0x1a2ee36130"
      ]
     },
     "execution_count": 10,
     "metadata": {},
     "output_type": "execute_result"
    }
   ],
   "source": [
    "# so when i run the camera again.. i get the same perspective\n",
    "trimesh_vtk.render_actors([mesh_actor], camera=camera)"
   ]
  },
  {
   "cell_type": "code",
   "execution_count": null,
   "metadata": {},
   "outputs": [],
   "source": [
    "ren, cameras = trimesh_vtk.render_actors([mesh_actor], return_keyframes=True)"
   ]
  },
  {
   "cell_type": "code",
   "execution_count": null,
   "metadata": {},
   "outputs": [
    {
     "data": {
      "text/plain": [
       "(vtkRenderingOpenGL2Python.vtkOpenGLRenderer)0x1a414c4980"
      ]
     },
     "execution_count": 14,
     "metadata": {},
     "output_type": "execute_result"
    }
   ],
   "source": [
    "# cameras are by default perspectivetransformation\n",
    "# but for figures you want to do orthographic, so scale is more meaningful\n",
    "# across depths.\n",
    "# to do this, you want to adjust the camera's mode to ParallelProjection\n",
    "camera.SetParallelProjection(True)\n",
    "# you have to set the scale of the camera\n",
    "# which is half the height of the window\n",
    "# in world units (so nm for our meshes)\n",
    "camera.SetParallelScale(1500)\n",
    "trimesh_vtk.render_actors([mesh_actor], camera=camera)"
   ]
  },
  {
   "cell_type": "code",
   "execution_count": null,
   "metadata": {},
   "outputs": [
    {
     "data": {
      "text/plain": [
       "(vtkRenderingOpenGL2Python.vtkOpenGLRenderer)0x1a41a8e360"
      ]
     },
     "execution_count": 15,
     "metadata": {},
     "output_type": "execute_result"
    }
   ],
   "source": [
    "# this is the built in LegendScaleActor.. it will dynamically update\n",
    "# but has an ugly font and line and you can't control its size precisely\n",
    "# reccomended workflow... take two renderings, with and without and use\n",
    "# image with scale bar to create your own custom one in illustrator\n",
    "\n",
    "legendScaleActor = vtk.vtkLegendScaleActor()\n",
    "legendScaleActor.BottomAxisVisibilityOff()\n",
    "legendScaleActor.TopAxisVisibilityOff()\n",
    "legendScaleActor.LeftAxisVisibilityOff()\n",
    "legendScaleActor.RightAxisVisibilityOff()\n",
    "legendScaleActor.GetLegendTitleProperty().SetFontSize(50)\n",
    "legendScaleActor.GetLegendTitleProperty().SetColor(0,0,0)\n",
    "\n",
    "\n",
    "trimesh_vtk.render_actors([mesh_actor, legendScaleActor], camera=camera)\n"
   ]
  },
  {
   "cell_type": "code",
   "execution_count": null,
   "metadata": {},
   "outputs": [
    {
     "data": {
      "text/plain": [
       "(vtkRenderingOpenGL2Python.vtkOpenGLRenderer)0x1a41a8e2f0"
      ]
     },
     "execution_count": 16,
     "metadata": {},
     "output_type": "execute_result"
    }
   ],
   "source": [
    "# save images, one with legendActor one without\n",
    "# i also make the background gray in order to see the end of the scalebar better\n",
    "trimesh_vtk.render_actors([mesh_actor, legendScaleActor], filename='image_with_scale.png',\n",
    "                          back_color=(.5, .5, .5), do_save=True, camera=camera)\n",
    "trimesh_vtk.render_actors([mesh_actor], filename='image_without.png', do_save=True, camera=camera)\n"
   ]
  },
  {
   "cell_type": "code",
   "execution_count": null,
   "metadata": {},
   "outputs": [],
   "source": [
    "# this approach requires that you prespecify your window height in nm and pixels, and your scale bar size\n",
    "# in nm. I'm not sure whether this is good enough to really merge into MeshParty, but it works here."
   ]
  },
  {
   "cell_type": "code",
   "execution_count": null,
   "metadata": {},
   "outputs": [],
   "source": [
    "# vtk function to make a simple line actor in the lower left that is a certain number of pixels wide\n",
    "def make_scalebar_actor(width_frac, line_width=5.0, color=(0,0,0), offset=.05):\n",
    "    points = vtk.vtkPoints();\n",
    "    points.SetNumberOfPoints(2);\n",
    "    points.Allocate(2);\n",
    "\n",
    "    points.InsertPoint(0, offset, offset, 0);\n",
    "    points.InsertPoint(1, offset+width_frac, offset, 0);\n",
    "\n",
    "    cells = vtk.vtkCellArray();\n",
    "    cells.Initialize();\n",
    "\n",
    "    line = vtk.vtkLine();\n",
    "    line.GetPointIds().SetId(0, 0);\n",
    "    line.GetPointIds().SetId(1, 1);\n",
    "\n",
    "    cells.InsertNextCell(line);\n",
    "    poly = vtk.vtkPolyData();\n",
    "    poly.Initialize();\n",
    "    poly.SetPoints(points);\n",
    "    poly.SetLines(cells);\n",
    "    poly.Modified();\n",
    "\n",
    "    coordinate = vtk.vtkCoordinate();\n",
    "    coordinate.SetCoordinateSystemToNormalizedDisplay();\n",
    "    mapper = vtk.vtkPolyDataMapper2D();\n",
    "    mapper.SetInputData(poly);\n",
    "    mapper.SetTransformCoordinate(coordinate);\n",
    "    mapper.ScalarVisibilityOn();\n",
    "    mapper.SetScalarModeToUsePointData();\n",
    "    mapper.Update();\n",
    "    \n",
    "    actor = vtk.vtkActor2D();\n",
    "    actor.SetMapper(mapper);\n",
    "    actor.GetProperty().SetLineWidth(line_width); \n",
    "    actor.GetProperty().SetColor(*color)\n",
    "    \n",
    "    return actor\n",
    "# used for my testing\n",
    "# scalebarActor = make_scalebar_actor(100)"
   ]
  },
  {
   "cell_type": "code",
   "execution_count": null,
   "metadata": {},
   "outputs": [],
   "source": [
    "# functions to make a camera and scale bar that are calibrated together\n",
    "\n",
    "def make_scale_bar_from_camera(camera, scale_bar_nm, video_height=720, video_width=1440):\n",
    "    \n",
    "    scale_bar_frac_h = scale_bar_nm/camera.GetParallelScale()\n",
    "    scale_bar_frac = scale_bar_frac_h * (video_height*1.0/(video_width*2))\n",
    "    scale_bar_actor = make_scalebar_actor(scale_bar_frac)\n",
    "    \n",
    "    return  scale_bar_actor  \n",
    "\n",
    "def make_orthographic_camera_and_scalebar(ctr_pt, window_height_nm, scale_bar_nm,\n",
    "                                          video_width=1440, video_height=720):\n",
    "    \n",
    "    camera = trimesh_vtk.oriented_camera(ctr_pt, backoff_vector=1000)\n",
    "    camera.SetParallelProjection(True)\n",
    "    camera.SetParallelScale(window_height_nm)\n",
    "    scale_bar_actor = make_scale_bar_from_camera(camera, scale_bar_nm,\n",
    "                                                 video_height=video_height,\n",
    "                                                 video_width=video_width)\n",
    "    return camera, scale_bar_actor\n",
    " "
   ]
  },
  {
   "cell_type": "code",
   "execution_count": null,
   "metadata": {},
   "outputs": [
    {
     "data": {
      "text/plain": [
       "(vtkRenderingOpenGL2Python.vtkOpenGLRenderer)0x1a41a8ee50"
      ]
     },
     "execution_count": 20,
     "metadata": {},
     "output_type": "execute_result"
    }
   ],
   "source": [
    "# use these functions to make a camera scale bar pair\n",
    "camera, scale_bar_actor = make_orthographic_camera_and_scalebar(syn_pos,\n",
    "                                                                3000, 3000,\n",
    "                                                                video_height=1440,\n",
    "                                                                video_width=1080*2)\n",
    "\n",
    "# these are other scale bar options\n",
    "# this one places a scalebar in a specific 3d location\n",
    "# sba = trimesh_vtk.scale_bar_actor(syn_pos, camera, length=3000)\n",
    "# this is a second scalebar actor that helped convince me that orthographic view was working right\n",
    "# sba2 = trimesh_vtk.scale_bar_actor(syn_pos+[0,10000,0], camera, length=3000)\n",
    "\n",
    "# this is a 3d line that has end points in specific 3d locations, which convinced me the scalebar was right\n",
    "# linea=trimesh_vtk.linked_point_actor(np.array([syn_pos]), np.array([syn_pos+[3000,0,0]]), line_width=5)\n",
    "\n",
    "# here is a prettier way that uses the above function to make a 50um scale bar\n",
    "# however, if you zoom at all the scalebar won't change and will not be 50um anymore\n",
    "trimesh_vtk.render_actors([mesh_actor, scale_bar_actor],\n",
    "                          camera=camera, video_height=1440, video_width=1080*2)"
   ]
  },
  {
   "cell_type": "code",
   "execution_count": null,
   "metadata": {},
   "outputs": [],
   "source": [
    "# a brief tour through other visualization options\n",
    "import seaborn as sns\n",
    "\n",
    "\n",
    "# point cloud actor, for drawing lots of spheres\n",
    "\n",
    "# down list to only synapses onto this cell\n",
    "cell_syn_df = syn_df.query(f'post_root_id=={seg_id}')\n",
    "# make an xyz array\n",
    "syn_xyz=cell_syn_df[['ctr_pt_x_nm', 'ctr_pt_y_nm', 'ctr_pt_z_nm']].values\n",
    "# make size 50*sqrt(cleft_size)\n",
    "syn_size = 50*np.sqrt(cell_syn_df.cleft_vx.values)\n",
    "# run sizes through a colormap\n",
    "cmap = np.array(sns.color_palette('viridis', 1000))\n",
    "# according to the log of the cleft size\n",
    "# note you can use this function to map 'color' \n",
    "# onto meshes, skeleton nodes, etc...\n",
    "# for explicit color passing, vtk needs Nx3 uint8 arrays from [0,255]\n",
    "syn_color = trimesh_vtk.values_to_colors(np.log(cell_syn_df.cleft_vx.values),\n",
    "                                         cmap)\n",
    "# use point cloud actor function to make an actor\n",
    "syn_actor = trimesh_vtk.point_cloud_actor(syn_xyz,\n",
    "                                          size=syn_size,\n",
    "                                          color=syn_color)\n",
    "\n",
    "\n"
   ]
  },
  {
   "cell_type": "code",
   "execution_count": null,
   "metadata": {},
   "outputs": [
    {
     "data": {
      "text/plain": [
       "(vtkRenderingOpenGL2Python.vtkOpenGLRenderer)0x1a38bc1bb0"
      ]
     },
     "execution_count": 23,
     "metadata": {},
     "output_type": "execute_result"
    }
   ],
   "source": [
    "# visualize points and cell\n",
    "trimesh_vtk.render_actors([syn_actor, mesh_actor])"
   ]
  },
  {
   "cell_type": "code",
   "execution_count": null,
   "metadata": {},
   "outputs": [],
   "source": [
    "# linked point actor, for drawing lots of lines connecting points\n",
    "\n",
    "# make pre and post xyz arrays\n",
    "pre_xyz=cell_syn_df[['pre_pos_x_vx', 'pre_pos_y_vx', 'pre_pos_z_vx']].values * np.array([4,4,40])\n",
    "post_xyz =cell_syn_df[['post_pos_x_vx', 'post_pos_y_vx', 'post_pos_z_vx']].values * np.array([4,4,40])\n",
    "\n",
    "syn_line_actor = trimesh_vtk.linked_point_actor(pre_xyz, post_xyz, line_width=5, opacity=1.0)\n"
   ]
  },
  {
   "cell_type": "code",
   "execution_count": null,
   "metadata": {},
   "outputs": [
    {
     "data": {
      "text/plain": [
       "(vtkRenderingOpenGL2Python.vtkOpenGLRenderer)0x1a41ac04b0"
      ]
     },
     "execution_count": 25,
     "metadata": {},
     "output_type": "execute_result"
    }
   ],
   "source": [
    "# lets aim the camera at first synapse to see it better.. backoff 4 microns\n",
    "camera = trimesh_vtk.oriented_camera(syn_xyz[0,:], backoff=4)\n",
    "trimesh_vtk.render_actors([syn_line_actor, mesh_actor], camera=camera)"
   ]
  },
  {
   "cell_type": "code",
   "execution_count": null,
   "metadata": {},
   "outputs": [
    {
     "ename": "NameError",
     "evalue": "name 'trimesh_vtk' is not defined",
     "output_type": "error",
     "traceback": [
      "\u001b[0;31m---------------------------------------------------------------------------\u001b[0m",
      "\u001b[0;31mNameError\u001b[0m                                 Traceback (most recent call last)",
      "Cell \u001b[0;32mIn[1], line 3\u001b[0m\n\u001b[1;32m      1\u001b[0m \u001b[38;5;66;03m# Visualize the synapse\u001b[39;00m\n\u001b[1;32m      2\u001b[0m \u001b[38;5;66;03m# Create a sphere actor for the synapse\u001b[39;00m\n\u001b[0;32m----> 3\u001b[0m synapse_actor \u001b[38;5;241m=\u001b[39m trimesh_vtk\u001b[38;5;241m.\u001b[39msphere_actor(syn_xyz[\u001b[38;5;241m0\u001b[39m,:], radius\u001b[38;5;241m=\u001b[39m\u001b[38;5;241m500\u001b[39m, color\u001b[38;5;241m=\u001b[39m[\u001b[38;5;241m255\u001b[39m, \u001b[38;5;241m0\u001b[39m, \u001b[38;5;241m0\u001b[39m])\n\u001b[1;32m      5\u001b[0m \u001b[38;5;66;03m# Render the scene with the synapse, mesh, and synapse lines\u001b[39;00m\n\u001b[1;32m      6\u001b[0m trimesh_vtk\u001b[38;5;241m.\u001b[39mrender_actors([synapse_actor, syn_line_actor, mesh_actor], camera\u001b[38;5;241m=\u001b[39mcamera)\n",
      "\u001b[0;31mNameError\u001b[0m: name 'trimesh_vtk' is not defined"
     ]
    }
   ],
   "source": [
    "# Visualize the synapse\n",
    "# Create a sphere actor for the synapse\n",
    "synapse_actor = trimesh_vtk.sphere_actor(syn_xyz[0,:], radius=500, color=[255, 0, 0])\n",
    "\n",
    "# Render the scene with the synapse, mesh, and synapse lines\n",
    "trimesh_vtk.render_actors([synapse_actor, syn_line_actor, mesh_actor], camera=camera)\n"
   ]
  },
  {
   "cell_type": "code",
   "execution_count": null,
   "metadata": {},
   "outputs": [],
   "source": []
  }
 ],
 "metadata": {
  "kernelspec": {
   "display_name": "micronsbinder",
   "language": "python",
   "name": "micronsbinder"
  },
  "language_info": {
   "codemirror_mode": {
    "name": "ipython",
    "version": 3
   },
   "file_extension": ".py",
   "mimetype": "text/x-python",
   "name": "python",
   "nbconvert_exporter": "python",
   "pygments_lexer": "ipython3",
   "version": "3.11.9"
  }
 },
 "nbformat": 4,
 "nbformat_minor": 4
}
