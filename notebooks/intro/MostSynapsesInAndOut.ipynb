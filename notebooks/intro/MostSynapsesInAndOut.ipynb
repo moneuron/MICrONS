{
 "cells": [
  {
   "cell_type": "markdown",
   "metadata": {},
   "source": [
    "# Most synapses in and out  \n",
    "This notebook demonstrates a few ways to work with the synapse tables we've generated. As a working example, it demonstrates how to find the neurons with the most input and output synapse predictions within a table. It also demonstrates how to view these cells and their synapses in neuroglancer, and points to further resources."
   ]
  },
  {
   "cell_type": "code",
   "execution_count": null,
   "metadata": {},
   "outputs": [],
   "source": [
    "import nglui\n",
    "import pandas as pd\n",
    "import matplotlib.pyplot as plt\n",
    "import seaborn as sns"
   ]
  },
  {
   "cell_type": "markdown",
   "metadata": {},
   "source": [
    "### Reading data"
   ]
  },
  {
   "cell_type": "markdown",
   "metadata": {},
   "source": [
    "read in the soma table to get IDs of cells with cell bodies in volume"
   ]
  },
  {
   "cell_type": "code",
   "execution_count": null,
   "metadata": {},
   "outputs": [],
   "source": [
    "soma_df = pd.read_csv('data/soma_valence_v185.csv')"
   ]
  },
  {
   "cell_type": "code",
   "execution_count": null,
   "metadata": {},
   "outputs": [],
   "source": [
    "soma_df.head()"
   ]
  },
  {
   "cell_type": "markdown",
   "metadata": {},
   "source": [
    "read in the synapse table "
   ]
  },
  {
   "cell_type": "code",
   "execution_count": null,
   "metadata": {},
   "outputs": [],
   "source": [
    "syn_df = pd.read_csv('data/pni_synapses_v185.csv')"
   ]
  },
  {
   "cell_type": "markdown",
   "metadata": {},
   "source": [
    "It has 3.2 million rows"
   ]
  },
  {
   "cell_type": "code",
   "execution_count": null,
   "metadata": {},
   "outputs": [],
   "source": [
    "print(syn_df.shape)"
   ]
  },
  {
   "cell_type": "code",
   "execution_count": null,
   "metadata": {},
   "outputs": [],
   "source": [
    "syn_df.head()"
   ]
  },
  {
   "cell_type": "markdown",
   "metadata": {},
   "source": [
    "Lets filter for IDs with somas that are neurons"
   ]
  },
  {
   "cell_type": "code",
   "execution_count": null,
   "metadata": {},
   "outputs": [],
   "source": [
    "neuron_df=soma_df.query('cell_type == \"i\" | cell_type==\"e\"')"
   ]
  },
  {
   "cell_type": "markdown",
   "metadata": {},
   "source": [
    "Use this list of IDs to filter all synapses to just those onto neurons "
   ]
  },
  {
   "cell_type": "code",
   "execution_count": null,
   "metadata": {},
   "outputs": [],
   "source": [
    "post_neuron_syn_df=syn_df[syn_df.post_root_id.isin(neuron_df.pt_root_id)]"
   ]
  },
  {
   "cell_type": "markdown",
   "metadata": {},
   "source": [
    "951,457 of 3.5 million synapses are onto cells with somas in the volume"
   ]
  },
  {
   "cell_type": "code",
   "execution_count": null,
   "metadata": {},
   "outputs": [],
   "source": [
    "post_neuron_syn_df.shape"
   ]
  },
  {
   "cell_type": "markdown",
   "metadata": {},
   "source": [
    "## Most inputs"
   ]
  },
  {
   "cell_type": "markdown",
   "metadata": {},
   "source": [
    "Lets summarize the number of inputs these cells have"
   ]
  },
  {
   "cell_type": "code",
   "execution_count": null,
   "metadata": {},
   "outputs": [],
   "source": [
    "in_degree_df = post_neuron_syn_df.groupby('post_root_id').post_root_id.count()"
   ]
  },
  {
   "cell_type": "code",
   "execution_count": null,
   "metadata": {},
   "outputs": [],
   "source": [
    "in_degree_df.head()"
   ]
  },
  {
   "cell_type": "markdown",
   "metadata": {},
   "source": [
    "Let's find the cell with the most inputs"
   ]
  },
  {
   "cell_type": "code",
   "execution_count": null,
   "metadata": {},
   "outputs": [],
   "source": [
    "max_input_neuron=in_degree_df.index[in_degree_df.argmax()]\n",
    "print(max_input_neuron)"
   ]
  },
  {
   "cell_type": "markdown",
   "metadata": {},
   "source": [
    "it has 5369 input synapses"
   ]
  },
  {
   "cell_type": "code",
   "execution_count": null,
   "metadata": {},
   "outputs": [],
   "source": [
    "in_degree_df[max_input_neuron]"
   ]
  },
  {
   "cell_type": "markdown",
   "metadata": {},
   "source": [
    "Lets filter synapses to just those onto this one neuron"
   ]
  },
  {
   "cell_type": "code",
   "execution_count": null,
   "metadata": {},
   "outputs": [],
   "source": [
    "onto_cell_syn_df = post_neuron_syn_df.query(f'post_root_id == {max_input_neuron}').copy()"
   ]
  },
  {
   "cell_type": "markdown",
   "metadata": {},
   "source": [
    "This illustrates how to setup a nglui pipeline to highlight synapses"
   ]
  },
  {
   "cell_type": "markdown",
   "metadata": {},
   "source": [
    "### Visualization: most inputs"
   ]
  },
  {
   "cell_type": "code",
   "execution_count": null,
   "metadata": {},
   "outputs": [],
   "source": [
    "from nglui.statebuilder import *\n",
    "# get sources from the neuroglancer link\n",
    "img_source = \"precomputed://https://storage.googleapis.com/microns_public_datasets/pinky100_v0/son_of_alignment_v15_rechunked\"\n",
    "seg_source = \"precomputed://gs://microns_public_datasets/pinky100_v185/seg\"\n",
    "\n",
    "# use nglui (www.github.com/seung-lab/NeuroglancerAnnotationUI) to setup a dataframe > neuroglancer link pipeline\n",
    "img_layer = ImageLayerConfig(name='layer23',\n",
    "                             source=img_source,\n",
    "                             )\n",
    "# we want the segmentation layer with our target neuron always on\n",
    "seg_layer = SegmentationLayerConfig(name = 'seg',\n",
    "                                    source = seg_source,\n",
    "                                    fixed_ids=[max_input_neuron])\n",
    "\n",
    "# need to consolidate the synapse position into a single column\n",
    "onto_cell_syn_df.loc[:, 'ctr_pos']=onto_cell_syn_df.apply(lambda x: [x.ctr_pos_x_vx, x.ctr_pos_y_vx, x.ctr_pos_z_vx], axis=1).copy()\n",
    "\n",
    "# setup a mapping rule for point annotations\n",
    "syn_points = PointMapper(point_column='ctr_pos', linked_segmentation_column='pre_root_id')\n",
    "# add these points linked to the segmentation layer name\n",
    "syn_layer = AnnotationLayerConfig(name='synapses', mapping_rules=syn_points, linked_segmentation_layer='seg')\n"
   ]
  },
  {
   "cell_type": "markdown",
   "metadata": {},
   "source": [
    "When you click the below link, you'll be taken to a neuroglancer visualization of the dataset.\n",
    "\n",
    "If you are unfamiliar with basic neuroglancer visualization, you should read a guide here (https://microns-explorer.org/visualization)\n",
    "\n",
    "There is also a fast intro (with movies!) written up here https://blog.eyewire.org/explore-cortical-neurons/.\n",
    "\n",
    "In this view, this code has setup a new layer (synapses).  It should open with the synapse layer details on the right hand side, where you can see a list of synapses.  To learn more about how to interact with this neuroglancer link , you can watch this below 5 minute video. "
   ]
  },
  {
   "cell_type": "code",
   "execution_count": null,
   "metadata": {},
   "outputs": [],
   "source": [
    "from IPython.lib.display import YouTubeVideo\n",
    "YouTubeVideo('YTbu6vMljuE', width=800, height=600)"
   ]
  },
  {
   "cell_type": "markdown",
   "metadata": {},
   "source": [
    "setup a state builder with this layer pipeline\n",
    "\n",
    "then render the state pipeline with the dataframe data\n",
    "\n",
    "returning the link as an html link"
   ]
  },
  {
   "cell_type": "code",
   "execution_count": null,
   "metadata": {},
   "outputs": [],
   "source": [
    "sb = StateBuilder([img_layer, seg_layer, syn_layer])\n",
    "sb.render_state(onto_cell_syn_df, return_as='html')"
   ]
  },
  {
   "cell_type": "markdown",
   "metadata": {},
   "source": [
    "## Most outputs"
   ]
  },
  {
   "cell_type": "markdown",
   "metadata": {},
   "source": [
    "Lets repeat the exercise to find cells with the most outputs"
   ]
  },
  {
   "cell_type": "code",
   "execution_count": null,
   "metadata": {},
   "outputs": [],
   "source": [
    "pre_neuron_syn_df = syn_df[syn_df.pre_root_id.isin(neuron_df.pt_root_id)]\n",
    "out_degree_df = pre_neuron_syn_df.groupby('pre_root_id').post_root_id.count()\n"
   ]
  },
  {
   "cell_type": "markdown",
   "metadata": {},
   "source": [
    "in contrast to inputs only 15,884 outputs of the\n",
    "\n",
    "3.2 million synapses can be connected\n",
    "\n",
    "to cells with cell bodies in volume"
   ]
  },
  {
   "cell_type": "code",
   "execution_count": null,
   "metadata": {},
   "outputs": [],
   "source": [
    "pre_neuron_syn_df.shape"
   ]
  },
  {
   "cell_type": "markdown",
   "metadata": {},
   "source": [
    "## Scatter plot: # inputs vs. # outputs"
   ]
  },
  {
   "cell_type": "markdown",
   "metadata": {},
   "source": [
    "since we have the data, lets make a dataframe with all the cells in degree\n",
    "and out degree"
   ]
  },
  {
   "cell_type": "code",
   "execution_count": null,
   "metadata": {},
   "outputs": [],
   "source": [
    "in_out_df = pd.DataFrame({'in_degree': in_degree_df, 'out_degree':out_degree_df})"
   ]
  },
  {
   "cell_type": "markdown",
   "metadata": {},
   "source": [
    "merge in the cell type information we have on these cells"
   ]
  },
  {
   "cell_type": "code",
   "execution_count": null,
   "metadata": {},
   "outputs": [],
   "source": [
    "in_out_ct_df = pd.merge(in_out_df, soma_df[['cell_type','pt_root_id']], left_index=True, right_on='pt_root_id' )"
   ]
  },
  {
   "cell_type": "markdown",
   "metadata": {},
   "source": [
    "you can see here that many cells have low out-degree \n",
    "as excitatory neurons in the bottom half of the dataset\n",
    "have axons which leave the bottom of the volume\n",
    "before branching, but there are 5 inhibitory neurons with >300 synapses\n",
    "\n",
    "the in degree varies from a few hundred to >5000 depending on how much\n",
    "dendrite is in the volume\n"
   ]
  },
  {
   "cell_type": "code",
   "execution_count": null,
   "metadata": {},
   "outputs": [],
   "source": [
    "pg=sns.pairplot(x_vars=['in_degree'], y_vars=['out_degree'],\n",
    "             data=in_out_ct_df, hue='cell_type', plot_kws={'alpha': 0.75},  height=5)\n"
   ]
  },
  {
   "cell_type": "code",
   "execution_count": null,
   "metadata": {},
   "outputs": [],
   "source": [
    "in_out_ct_df.query('out_degree>300')"
   ]
  },
  {
   "cell_type": "markdown",
   "metadata": {},
   "source": [
    "let's get all these synapses from these neurons"
   ]
  },
  {
   "cell_type": "code",
   "execution_count": null,
   "metadata": {},
   "outputs": [],
   "source": [
    "is_from_most_out = pre_neuron_syn_df.pre_root_id.isin(in_out_ct_df.query('out_degree>300').pt_root_id.values)\n",
    "most_inh_syn_out = pre_neuron_syn_df[is_from_most_out].copy()"
   ]
  },
  {
   "cell_type": "markdown",
   "metadata": {},
   "source": [
    "here are our 4220 synapses"
   ]
  },
  {
   "cell_type": "code",
   "execution_count": null,
   "metadata": {},
   "outputs": [],
   "source": [
    "most_inh_syn_out.shape"
   ]
  },
  {
   "cell_type": "markdown",
   "metadata": {},
   "source": [
    "## Visualization: inhibitory cells with > 300 output synapses"
   ]
  },
  {
   "cell_type": "markdown",
   "metadata": {},
   "source": [
    "lets visualize them all in neuroglancer"
   ]
  },
  {
   "cell_type": "code",
   "execution_count": null,
   "metadata": {},
   "outputs": [],
   "source": [
    "most_inh_syn_out['ctr_pos']=most_inh_syn_out.apply(lambda x: [x.ctr_pos_x_vx, x.ctr_pos_y_vx, x.ctr_pos_z_vx], axis=1).values\n",
    "\n",
    "seg_layer = SegmentationLayerConfig(name = 'seg',\n",
    "                                    source = seg_source,\n",
    "                                    selected_ids_column='pre_root_id')\n",
    "\n",
    "# setup a mapping rule for point annotations\n",
    "syn_points = PointMapper(point_column='ctr_pos', linked_segmentation_column='post_root_id')\n",
    "# add these points linked to the segmentation layer name\n",
    "syn_layer = AnnotationLayerConfig(name='synapses', mapping_rules=syn_points, linked_segmentation_layer='seg')\n",
    "\n",
    "sb = StateBuilder([img_layer, seg_layer, syn_layer])\n",
    "# returning the link as an html link\n",
    "sb.render_state(most_inh_syn_out, return_as='html')"
   ]
  },
  {
   "cell_type": "markdown",
   "metadata": {},
   "source": [
    "maybe that's a bit overwhelming... lets cut the dataframe to just the cell with the most\n",
    "outputs, it's a basket cell, check out how many times it makes multiple synapses \n",
    "with the same target, you can quickly get a sense for how it distributes its \n",
    "outputs across different post-synaptic target structures."
   ]
  },
  {
   "cell_type": "code",
   "execution_count": null,
   "metadata": {},
   "outputs": [],
   "source": [
    "sb.render_state(most_inh_syn_out.query('pre_root_id == 648518346349539215'), return_as='html')"
   ]
  }
 ],
 "metadata": {
  "kernelspec": {
   "display_name": "micronsbinder",
   "language": "python",
   "name": "micronsbinder"
  },
  "language_info": {
   "codemirror_mode": {
    "name": "ipython",
    "version": 3
   },
   "file_extension": ".py",
   "mimetype": "text/x-python",
   "name": "python",
   "nbconvert_exporter": "python",
   "pygments_lexer": "ipython3",
   "version": "-1.-1.-1"
  }
 },
 "nbformat": 4,
 "nbformat_minor": 4
}
